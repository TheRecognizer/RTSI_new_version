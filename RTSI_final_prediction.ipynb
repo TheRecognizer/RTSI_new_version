{
 "cells": [
  {
   "cell_type": "markdown",
   "metadata": {},
   "source": [
    "# Предсказание индекса RTSI"
   ]
  },
  {
   "cell_type": "code",
   "execution_count": 1,
   "metadata": {},
   "outputs": [
    {
     "name": "stderr",
     "output_type": "stream",
     "text": [
      "[nltk_data] Downloading package punkt to\n",
      "[nltk_data]     C:\\Users\\asus\\AppData\\Roaming\\nltk_data...\n",
      "[nltk_data]   Package punkt is already up-to-date!\n"
     ]
    },
    {
     "data": {
      "text/plain": [
       "True"
      ]
     },
     "execution_count": 1,
     "metadata": {},
     "output_type": "execute_result"
    }
   ],
   "source": [
    "# Импорт цен акций за указанный период\n",
    "import urllib.request\n",
    "import datetime\n",
    "import time\n",
    "import nltk\n",
    "import string\n",
    "import pandas as pd\n",
    "import numpy as np\n",
    "import warnings\n",
    "import matplotlib.pyplot as plt\n",
    "import seaborn as sns\n",
    "import lightgbm as lgb\n",
    "import statistics as sts\n",
    "import warnings\n",
    "import urllib.request\n",
    "import nltk\n",
    "import string\n",
    "import scipy.stats as sps\n",
    "from tqdm.notebook import tqdm\n",
    "from sklearn import model_selection, linear_model, metrics, preprocessing\n",
    "from sklearn.feature_selection import RFECV\n",
    "from sklearn.ensemble import RandomForestRegressor\n",
    "from sklearn.feature_extraction.text import TfidfVectorizer\n",
    "from sklearn.decomposition import PCA\n",
    "from sklearn.model_selection import TimeSeriesSplit, cross_val_score\n",
    "from nltk.corpus import stopwords\n",
    "from nltk.tokenize import word_tokenize\n",
    "from nltk.stem import SnowballStemmer\n",
    "\n",
    "warnings.filterwarnings('ignore')\n",
    "nltk.download('punkt')\n"
   ]
  },
  {
   "cell_type": "markdown",
   "metadata": {},
   "source": [
    "Функции для скачивания данных с finam.ru"
   ]
  },
  {
   "cell_type": "code",
   "execution_count": 2,
   "metadata": {},
   "outputs": [],
   "source": [
    "# Тикеры акций и их id в системе Finam\n",
    "tickers={'DJ.W1IDU':20447,'DJ.W1FIN':20459,'NASDAQCOMP':82075,'EURUSD':83,'USDCNY':83225,'INDUSDX':438796,'NYMEX.NG':18949,'ICE.BRN':19473,'GDAX.BCH-USD':491809,'comex.SI':18952, 'comex.GC':18953, 'USDCB':82485, 'D&J-IND':91, 'LME.Nickel':18932,'LME.Alum':18930, 'RTSI':95,'ABRD':82460,'AESL':181867,'AFKS':19715,'AFLT':29,'AGRO':399716,'AKRN':17564,'ALBK':82616,'ALNU':81882,'ALRS':81820,'AMEZ':20702,'APTK':13855,'AQUA':35238,'ARMD':19676,'ARSA':19915,'ASSB':16452,'AVAN':82843,'AVAZ':39,'AVAZP':40,'BANE':81757,'BANEP':81758,'BGDE':175840,'BISV':35242,'BISVP':35243,'BLNG':21078,'BRZL':81901,'BSPB':20066,'CBOM':420694,'CHEP':20999,'CHGZ':81933,'CHKZ':21000,'CHMF':16136,'CHMK':21001,'CHZN':19960,'CLSB':16712,'CLSBP':16713,'CNTL':21002,'CNTLP':81575,'DASB':16825,'DGBZ':17919,'DIOD':35363,'DIXY':18564,'DVEC':19724,'DZRD':74744,'DZRDP':74745,'ELTZ':81934,'ENRU':16440,'EPLN':451471,'ERCO':81935,'FEES':20509,'FESH':20708,'FORTP':82164,'GAZA':81997,'GAZAP':81998,'GAZC':81398,'GAZP':16842,'GAZS':81399,'GAZT':82115,'GCHE':20125,'GMKN':795,'GRAZ':16610,'GRNT':449114,'GTLC':152876,'GTPR':175842,'GTSS':436120,'HALS':17698,'HIMC':81939,'HIMCP':81940,'HYDR':20266,'IDJT':388276,'IDVP':409486,'IGST':81885,'IGST03':81886,'IGSTP':81887,'IRAO':20516,'IRGZ':9,'IRKT':15547,'ISKJ':17137,'JNOS':15722,'JNOSP':15723,'KAZT':81941,'KAZTP':81942,'KBSB':19916,'KBTK':35285,'KCHE':20030,'KCHEP':20498,'KGKC':83261,'KGKCP':152350,'KLSB':16329,'KMAZ':15544,'KMEZ':22525,'KMTZ':81903,'KOGK':20710,'KRKN':81891,'KRKNP':81892,'KRKO':81905,'KRKOP':81906,'KROT':510,'KROTP':511,'KRSB':20912,'KRSBP':20913,'KRSG':15518,'KSGR':75094,'KTSB':16284,'KTSBP':16285,'KUBE':522,'KUNF':81943,'KUZB':83165,'KZMS':17359,'KZOS':81856,'KZOSP':81857,'LIFE':74584,'LKOH':8,'LNTA':385792,'LNZL':21004,'LNZLP':22094,'LPSB':16276,'LSNG':31,'LSNGP':542,'LSRG':19736,'LVHK':152517,'MAGE':74562,'MAGEP':74563,'MAGN':16782,'MERF':20947,'MFGS':30,'MFGSP':51,'MFON':152516,'MGNT':17086,'MGNZ':20892,'MGTS':12984,'MGTSP':12983,'MGVM':81829,'MISB':16330,'MISBP':16331,'MNFD':80390,'MOBB':82890,'MOEX':152798,'MORI':81944,'MOTZ':21116,'MRKC':20235,'MRKK':20412,'MRKP':20107,'MRKS':20346,'MRKU':20402,'MRKV':20286,'MRKY':20681,'MRKZ':20309,'MRSB':16359,'MSNG':6,'MSRS':16917,'MSST':152676,'MSTT':74549,'MTLR':21018,'MTLRP':80745,'MTSS':15523,'MUGS':81945,'MUGSP':81946,'MVID':19737,'NAUK':81992,'NFAZ':81287,'NKHP':450432,'NKNC':20100,'NKNCP':20101,'NKSH':81947,'NLMK':17046,'NMTP':19629,'NNSB':16615,'NNSBP':16616,'NPOF':81858,'NSVZ':81929,'NVTK':17370,'ODVA':20737,'OFCB':80728,'OGKB':18684,'OMSH':22891,'OMZZP':15844,'OPIN':20711,'OSMP':21006,'OTCP':407627,'PAZA':81896,'PHOR':81114,'PHST':19717,'PIKK':18654,'PLSM':81241,'PLZL':17123,'PMSB':16908,'PMSBP':16909,'POLY':175924,'PRFN':83121,'PRIM':17850,'PRIN':22806,'PRMB':80818,'PRTK':35247,'PSBR':152320,'QIWI':181610,'RASP':17713,'RBCM':74779,'RDRB':181755,'RGSS':181934,'RKKE':20321,'RLMN':152677,'RLMNP':388313,'RNAV':66644,'RODNP':66693,'ROLO':181316,'ROSB':16866,'ROSN':17273,'ROST':20637,'RSTI':20971,'RSTIP':20972,'RTGZ':152397,'RTKM':7,'RTKMP':15,'RTSB':16783,'RTSBP':16784,'RUAL':414279,'RUALR':74718,'RUGR':66893,'RUSI':81786,'RUSP':20712,'RZSB':16455,'SAGO':445,'SAGOP':70,'SARE':11,'SAREP':24,'SBER':3,'SBERP':23,'SELG':81360,'SELGP':82610,'SELL':21166,'SIBG':436091,'SIBN':2,'SKYC':83122,'SNGS':4,'SNGSP':13,'STSB':20087,'STSBP':20088,'SVAV':16080,'SYNG':19651,'SZPR':22401,'TAER':80593,'TANL':81914,'TANLP':81915,'TASB':16265,'TASBP':16266,'TATN':825,'TATNP':826,'TGKA':18382,'TGKB':17597,'TGKBP':18189,'TGKD':18310,'TGKDP':18391,'TGKN':18176,'TGKO':81899,'TNSE':420644,'TORS':16797,'TORSP':16798,'TRCN':74561,'TRMK':18441,'TRNFP':1012,'TTLK':18371,'TUCH':74746,'TUZA':20716,'UCSS':175781,'UKUZ':20717,'UNAC':22843,'UNKL':82493,'UPRO':18584,'URFD':75124,'URKA':19623,'URKZ':82611,'USBN':81953,'UTAR':15522,'UTII':81040,'UTSY':419504,'UWGN':414560,'VDSB':16352,'VGSB':16456,'VGSBP':16457,'VJGZ':81954,'VJGZP':81955,'VLHZ':17257,'VRAO':20958,'VRAOP':20959,'VRSB':16546,'VRSBP':16547,'VSMO':15965,'VSYD':83251,'VSYDP':83252,'VTBR':19043,'VTGK':19632,'VTRS':82886,'VZRZ':17068,'VZRZP':17067,'WTCM':19095,'WTCMP':19096,'YAKG':81917,'YKEN':81766,'YKENP':81769,'YNDX':388383,'YRSB':16342,'YRSBP':16343,'ZHIV':181674,'ZILL':81918,'ZMZN':556,'ZMZNP':603,'ZVEZ':82001,'FIVE':7,'DSKY':8,'SFIN':9,'RNFT':9}\n",
    "\n",
    "# Акции, входящие в индекс RTSI\n",
    "RTSI=['GAZP','SBER','SBERP','LKOH','GMKN','YNDX','NVTK','TATN','TATNP','ROSN','SNGS','SNGSP','MGNT','FIVE','MTSS','POLY','ALRS','CHMF','PLZL','IRAO','NLMK','VTBR','MOEX','PHOR','TRNFP','MAGN','RTKM','RUAL','AFLT','PIKK','HYDR','FEES','AFKS','LSRG','CBOM','UPRO','DSKY','LNTA','SFIN','RNFT','MVID']\n",
    "#Перевод массива строк в дату\n",
    "def array2date(arr):\n",
    "    new_arr=list()\n",
    "    for item in arr:\n",
    "        if len(item)==6:\n",
    "            a=int(item[0:2])\n",
    "            b=int(item[2:4])\n",
    "            c=2000+int(item[4:])\n",
    "            new_arr.append(datetime.date(c,b,a))\n",
    "        elif len(item)==8:\n",
    "            a=int(item[6:])\n",
    "            b=int(item[4:6])\n",
    "            c=2000+int(item[2:4])\n",
    "            new_arr.append(datetime.date(c,b,a))\n",
    "    return new_arr\n",
    "# Формируем дату и время\n",
    "def dtformed(d,mn,y,h=0,m=0,s=0):\n",
    "    return datetime.datetime(y,mn,d,h,m,s)\n",
    "\n",
    "\n",
    "# Возвращаем ID инструмента по его имени \n",
    "def getID(name):\n",
    "    return tickers[name]\n",
    "def load(name, dtstart=datetime.datetime.today(), \n",
    "         dtfin=datetime.datetime.today(),step=8, \n",
    "         market=1, MSOR=1, mstimever=0, sourse='finam', moment='close'):\n",
    "    # market - инструмент\n",
    "    # 0 — начала свечи, 1 — окончания свечи\n",
    "    # mstimever - не московское — mstimever=0; московское — mstime='on', mstimever='1'\n",
    "    #  период котировок (тики, 1 мин., 5 мин., 10 мин., 15 мин., 30 мин., 1 час, 1 день, 1 неделя, 1 месяц)\n",
    "    id =getID(name) # id инстурмента\n",
    "    e = '.txt' # расширение получаемого файла: .txt либо .csv\n",
    "    yf = str(dtstart.year)\n",
    "    yt = str(dtfin.year)\n",
    "    month_start = str(dtstart.month)\n",
    "    day_start = str(dtstart.day)\n",
    "    month_end = str(dtfin.month)\n",
    "    day_end = str(dtfin.day)\n",
    "    dtf = '3' # формат даты (1 — ггггммдд, 2 — ггммдд, 3 — ддммгг, 4 — дд/мм/гг, 5 — мм/дд/гг)\n",
    "    tmf = '1' # формат времени (1 — ччммсс, 2 — ччмм, 3 — чч: мм: сс, 4 — чч: мм)\n",
    "    sep = '5' # параметр разделитель полей (1 — запятая (,), 2 — точка (.), 3 — точка с запятой (;), 4 — табуляция (»), 5 — пробел ( ))\n",
    "    sep2 = '1' # параметр разделитель разрядов (1 — нет, 2 — точка (.), 3 — запятая (,), 4 — пробел ( ), 5 — кавычка ('))\n",
    "    datf = '1' # Перечень получаемых данных (1-6)\n",
    "    at = '0' # добавлять заголовок в файл (0 — нет, 1 — да)\n",
    "\n",
    "    year_start = yf[2:]\n",
    "    year_end = yt[2:]\n",
    "    mf = (int(month_start.replace('0', ''))) - 1\n",
    "    mt = (int(month_end.replace('0', ''))) - 1\n",
    "    df = (int(day_start.replace('0', ''))) - 1\n",
    "    dt = (int(day_end.replace('0', ''))) - 1\n",
    "    \n",
    "    user_agent = 'Chrome/98.0.4758.102 Safari/537.36'\n",
    "    # Запрос\n",
    "    headers={'User-Agent':user_agent,} \n",
    "    \n",
    "    site='http://export.finam.ru/' + str(name) + '_' + str(year_start) + str(month_start) + str(\n",
    "            day_start) + '_' + str(year_end) + str(month_end) + str(day_end) + str(e) + '?market=' + str(\n",
    "            market) + '&em=' + str(id) + '&code=' + str(name) + '&apply=0&df=' + str(df) + '&mf=' + str(\n",
    "            mf) + '&yf=' + str(yf) + '&from=' + str(day_start) + '.' + str(month_start) + '.' + str(yf) + '&dt=' + str(\n",
    "            dt) + '&mt=' + str(mt) + '&yt=' + str(yt) + '&to=' + str(day_end) + '.' + str(month_end) + '.' + str(\n",
    "            yt) + '&p=' + str(step) + '&f=' + str(name) + '_' + str(year_start) + str(month_start) + str(\n",
    "            day_start) + '_' + str(year_end) + str(month_end) + str(day_end) + '&e=' + str(e) + '&cn=' + str(\n",
    "            name) + '&dtf=' + str(dtf) + '&tmf=' + str(tmf) + '&MSOR=' + str(MSOR) + '&mstimever=' + str(\n",
    "            mstimever) + '&sep=' + str(sep) + '&sep2=' + str(sep2) + '&datf=' + str(datf) + '&at=' + str(at)\n",
    "    #Пока не удалось получить данные, пробуем это сделать\n",
    "    errors=0\n",
    "    while ('data' not in locals()):\n",
    "        try:\n",
    "            request=urllib.request.Request(site, None, headers) #The assembled request\n",
    "            response = urllib.request.urlopen(request) \n",
    "            data = response.read() # The data u need\n",
    "            #print(data)\n",
    "        except urllib.error.HTTPError as e:\n",
    "            errors+=1\n",
    "\n",
    "    # Выделение нужных данных\n",
    "    \n",
    "    content = str(data)\n",
    "    #print(content)\n",
    "    stokelist=content.split(r'\\r\\n')\n",
    "    n=len(stokelist)\n",
    "    price_str=list()\n",
    "    dates_str=list()\n",
    "    for k in range(n-1):\n",
    "        stokelist1=stokelist[k].split(' ')\n",
    "        price_str.append(stokelist1[7])\n",
    "        dates_str.append(stokelist1[2])\n",
    "    dates=array2date(dates_str)\n",
    "    prices=list()\n",
    "    for item in price_str:\n",
    "        prices.append(float(item))      \n",
    "    return prices,dates"
   ]
  },
  {
   "cell_type": "markdown",
   "metadata": {},
   "source": [
    "# Объединяем вещественные данные по неделям"
   ]
  },
  {
   "cell_type": "code",
   "execution_count": 3,
   "metadata": {},
   "outputs": [],
   "source": [
    "def num_zeros(arr):\n",
    "    zeros=0\n",
    "    for i in range(len(arr)):\n",
    "        if arr[i]==0:\n",
    "            zeros+=1\n",
    "    return zeros\n",
    "def the_mean(arr):\n",
    "    if len(arr)-num_zeros(arr)==0:\n",
    "        return 0\n",
    "    else:\n",
    "        return round(sum(arr)/(len(arr)-num_zeros(arr)),3)\n",
    "def week_lists(arr,date1,date2):\n",
    "    inf=arr[0]\n",
    "    date=arr[1]\n",
    "    date1=datetime.date(date1.year,date1.month,date1.day)\n",
    "    date2=datetime.date(date2.year,date2.month,date2.day)\n",
    "    delta=(date2-date1).days+1\n",
    "    new_arr=[0 for i in range(delta)]\n",
    "    for i in range(len(inf)):\n",
    "        if  (date[i]-date1).days<len(new_arr):\n",
    "            new_arr[(date[i]-date1).days]=inf[i]\n",
    "    week_arr=[]\n",
    "    week_arr.append(new_arr[0:7+(delta%7)])\n",
    "    for i in range((delta//7)-1):\n",
    "        week_arr.append(new_arr[7+(delta%7)+i*7:7+(delta%7)+i*7+7])\n",
    "    week_data=np.zeros((len(week_arr),1),dtype=np.float64)\n",
    "    for i in range(len(week_arr)):\n",
    "        week_data[i,0]=the_mean(week_arr[i])\n",
    "    return week_data\n",
    "def filler(arr):\n",
    "    for i in range(0, arr.shape[0]-1):\n",
    "        if arr[i,0]!=0 and arr[i+1,0]==0:\n",
    "            arr[i+1,0]=arr[i,0]\n",
    "    return arr\n",
    "feature_names=RTSI+['RTSI']\n",
    "n_start=dtformed(3,1,2016)\n",
    "n_finish=dtformed(31,12,2019)\n",
    "def arr_to_mtrx(arr):\n",
    "    v=arr[0]\n",
    "    for i in range(1,len(arr)):\n",
    "        v=np.hstack((v,arr[i]))\n",
    "    return v\n",
    "a=datetime.date(2016,1,1)\n",
    "b=datetime.date(2019,11,30)\n",
    "targets=filler(week_lists(load('RTSI',n_start,n_finish),a,b))\n",
    "#Данные по акицям, дополнительным признакам, RTSI\n",
    "stocks_arr=list()\n",
    "for item in RTSI:\n",
    "    stocks_arr.append(filler(week_lists(load(item,n_start,n_finish),a,b)))\n",
    "#Объединяем массивы с данными по акциям\n",
    "def arr_to_mtrx(arr):\n",
    "    v=arr[0]\n",
    "    for i in range(1,len(arr)):\n",
    "        v=np.hstack((v,arr[i]))\n",
    "    return v\n",
    "stocks=arr_to_mtrx(stocks_arr)\n",
    "Week_data=pd.DataFrame(np.hstack((stocks,targets)),columns=RTSI+['RTSI'])"
   ]
  },
  {
   "cell_type": "markdown",
   "metadata": {},
   "source": [
    "# Загружаем датасет с текстами"
   ]
  },
  {
   "cell_type": "code",
   "execution_count": 4,
   "metadata": {},
   "outputs": [],
   "source": [
    "lenta=pd.read_csv('lenta-ru-news.csv')"
   ]
  },
  {
   "cell_type": "markdown",
   "metadata": {},
   "source": [
    "# Считаем число пропусков"
   ]
  },
  {
   "cell_type": "code",
   "execution_count": 5,
   "metadata": {},
   "outputs": [
    {
     "data": {
      "text/plain": [
       "url          0\n",
       "title        0\n",
       "text         5\n",
       "topic    62002\n",
       "tags     27219\n",
       "date         0\n",
       "dtype: int64"
      ]
     },
     "execution_count": 5,
     "metadata": {},
     "output_type": "execute_result"
    }
   ],
   "source": [
    "lenta.isna().sum()"
   ]
  },
  {
   "cell_type": "markdown",
   "metadata": {},
   "source": [
    "# Фильтруем датафрейм"
   ]
  },
  {
   "cell_type": "code",
   "execution_count": 6,
   "metadata": {},
   "outputs": [],
   "source": [
    "#Отбрасываем столбцы, не представляющие интерес, удаляем данные с пропусками, берем период с 2016 по 2019 год\n",
    "lenta.drop(columns = ['url', 'topic'],axis = 1, inplace=True)\n",
    "lenta[\"date\"] = pd.to_datetime(lenta[\"date\"],format=\"%Y/%m/%d\")\n",
    "lenta=lenta[lenta['date']>pd.Timestamp('2015-12-31 00:00:00')]\n",
    "lenta=lenta[lenta['date']<pd.Timestamp('2019-12-01 00:00:00')]\n",
    "lenta=lenta.dropna(subset=['text','tags'])\n",
    "lenta.reset_index(drop=True, inplace=True)"
   ]
  },
  {
   "cell_type": "code",
   "execution_count": 7,
   "metadata": {},
   "outputs": [
    {
     "data": {
      "text/html": [
       "<div>\n",
       "<style scoped>\n",
       "    .dataframe tbody tr th:only-of-type {\n",
       "        vertical-align: middle;\n",
       "    }\n",
       "\n",
       "    .dataframe tbody tr th {\n",
       "        vertical-align: top;\n",
       "    }\n",
       "\n",
       "    .dataframe thead th {\n",
       "        text-align: right;\n",
       "    }\n",
       "</style>\n",
       "<table border=\"1\" class=\"dataframe\">\n",
       "  <thead>\n",
       "    <tr style=\"text-align: right;\">\n",
       "      <th></th>\n",
       "      <th>title</th>\n",
       "      <th>text</th>\n",
       "      <th>tags</th>\n",
       "      <th>date</th>\n",
       "    </tr>\n",
       "  </thead>\n",
       "  <tbody>\n",
       "    <tr>\n",
       "      <th>0</th>\n",
       "      <td>В Техасе разрешили открыто носить оружие</td>\n",
       "      <td>В американском штате Техас владельцам огнестре...</td>\n",
       "      <td>Политика</td>\n",
       "      <td>2016-01-01</td>\n",
       "    </tr>\n",
       "    <tr>\n",
       "      <th>1</th>\n",
       "      <td>Запрет туркам вести строительство в России вст...</td>\n",
       "      <td>Постановление правительства, запрещающее турец...</td>\n",
       "      <td>Госэкономика</td>\n",
       "      <td>2016-01-01</td>\n",
       "    </tr>\n",
       "    <tr>\n",
       "      <th>2</th>\n",
       "      <td>Вертолет Bell совершил жесткую посадку в Росто...</td>\n",
       "      <td>В Аксайком районе Ростовской области совершил ...</td>\n",
       "      <td>Происшествия</td>\n",
       "      <td>2016-01-01</td>\n",
       "    </tr>\n",
       "    <tr>\n",
       "      <th>3</th>\n",
       "      <td>В Новом Орлеане неизвестный расстрелял посетит...</td>\n",
       "      <td>В Новом Орлеане неизвестный в ночь на 1 января...</td>\n",
       "      <td>Происшествия</td>\n",
       "      <td>2016-01-01</td>\n",
       "    </tr>\n",
       "    <tr>\n",
       "      <th>4</th>\n",
       "      <td>Путин подписал указ о транзите грузов из Украи...</td>\n",
       "      <td>Президент Владимир Путин подписал указ о мерах...</td>\n",
       "      <td>Политика</td>\n",
       "      <td>2016-01-01</td>\n",
       "    </tr>\n",
       "    <tr>\n",
       "      <th>5</th>\n",
       "      <td>Сенатор сообщил об угрозе терактов из-за отмен...</td>\n",
       "      <td>Член комитета Совфеда по международным делам И...</td>\n",
       "      <td>Политика</td>\n",
       "      <td>2016-01-01</td>\n",
       "    </tr>\n",
       "    <tr>\n",
       "      <th>6</th>\n",
       "      <td>Косачев назвал сближение Европы и России тренд...</td>\n",
       "      <td>Глава комитета Совета Федерации по международн...</td>\n",
       "      <td>Политика</td>\n",
       "      <td>2016-01-01</td>\n",
       "    </tr>\n",
       "    <tr>\n",
       "      <th>7</th>\n",
       "      <td>Подросток погиб на пожаре после запуска фейерв...</td>\n",
       "      <td>Подросток стал жертвой пожара, произошедшего в...</td>\n",
       "      <td>Общество</td>\n",
       "      <td>2016-01-01</td>\n",
       "    </tr>\n",
       "    <tr>\n",
       "      <th>8</th>\n",
       "      <td>В МВД заявили об отсутствии серьезных нарушени...</td>\n",
       "      <td>Новогодняя ночь в России прошла спокойно. Така...</td>\n",
       "      <td>Общество</td>\n",
       "      <td>2016-01-01</td>\n",
       "    </tr>\n",
       "    <tr>\n",
       "      <th>9</th>\n",
       "      <td>В новогоднюю ночь во Франции сожгли более 800 ...</td>\n",
       "      <td>Во Франции в новогоднюю ночь в общей сложности...</td>\n",
       "      <td>Происшествия</td>\n",
       "      <td>2016-01-01</td>\n",
       "    </tr>\n",
       "  </tbody>\n",
       "</table>\n",
       "</div>"
      ],
      "text/plain": [
       "                                               title  \\\n",
       "0           В Техасе разрешили открыто носить оружие   \n",
       "1  Запрет туркам вести строительство в России вст...   \n",
       "2  Вертолет Bell совершил жесткую посадку в Росто...   \n",
       "3  В Новом Орлеане неизвестный расстрелял посетит...   \n",
       "4  Путин подписал указ о транзите грузов из Украи...   \n",
       "5  Сенатор сообщил об угрозе терактов из-за отмен...   \n",
       "6  Косачев назвал сближение Европы и России тренд...   \n",
       "7  Подросток погиб на пожаре после запуска фейерв...   \n",
       "8  В МВД заявили об отсутствии серьезных нарушени...   \n",
       "9  В новогоднюю ночь во Франции сожгли более 800 ...   \n",
       "\n",
       "                                                text          tags       date  \n",
       "0  В американском штате Техас владельцам огнестре...      Политика 2016-01-01  \n",
       "1  Постановление правительства, запрещающее турец...  Госэкономика 2016-01-01  \n",
       "2  В Аксайком районе Ростовской области совершил ...  Происшествия 2016-01-01  \n",
       "3  В Новом Орлеане неизвестный в ночь на 1 января...  Происшествия 2016-01-01  \n",
       "4  Президент Владимир Путин подписал указ о мерах...      Политика 2016-01-01  \n",
       "5  Член комитета Совфеда по международным делам И...      Политика 2016-01-01  \n",
       "6  Глава комитета Совета Федерации по международн...      Политика 2016-01-01  \n",
       "7  Подросток стал жертвой пожара, произошедшего в...      Общество 2016-01-01  \n",
       "8  Новогодняя ночь в России прошла спокойно. Така...      Общество 2016-01-01  \n",
       "9  Во Франции в новогоднюю ночь в общей сложности...  Происшествия 2016-01-01  "
      ]
     },
     "execution_count": 7,
     "metadata": {},
     "output_type": "execute_result"
    }
   ],
   "source": [
    "lenta.head(10)"
   ]
  },
  {
   "cell_type": "markdown",
   "metadata": {},
   "source": [
    "# Определяем темы новостей, выбираем интересующие"
   ]
  },
  {
   "cell_type": "code",
   "execution_count": 8,
   "metadata": {},
   "outputs": [
    {
     "data": {
      "text/plain": [
       "array(['Политика', 'Госэкономика', 'Происшествия', 'Общество', 'Звери',\n",
       "       'Украина', 'Кино', 'Прибалтика', 'Музыка', 'Рынки', 'Конфликты',\n",
       "       'Наука', 'Деньги', 'Футбол', 'Люди', 'Преступность', 'Интернет',\n",
       "       'Coцсети', 'Летние виды', 'Криминал', 'Следствие и суд',\n",
       "       'Средняя Азия', 'Бизнес', 'Техника', 'Еда', 'Все', 'Мир',\n",
       "       'Бокс и ММА', 'Вещи', 'Россия', 'Явления', 'Гаджеты', 'Пресса',\n",
       "       'Полиция и спецслужбы', 'Мировой бизнес', 'Достижения', 'Книги',\n",
       "       'Стиль', 'Деловой климат', 'ТВ и радио', 'Космос', 'Инструменты',\n",
       "       'Молдавия', 'Зимние виды', 'Закавказье', 'Регионы', 'Квартира',\n",
       "       'События', 'Движение', 'Офис', 'Часы', 'Город', 'Игры', 'Москва',\n",
       "       'Искусство', 'Мнения', 'Финансы компаний', 'Дача', 'Белоруссия',\n",
       "       'Софт', 'Театр', 'История', 'Реклама', 'Вкусы', 'Внешний вид',\n",
       "       'Страноведение', 'Автобизнес', 'Аналитика рынка', 'Производители',\n",
       "       'Туризм', 'Госрегулирование', 'Выборы', 'Экология', 'Оружие',\n",
       "       'Мемы', 'Мировой опыт', 'Инновации', 'Хоккей', 'Вирусные ролики',\n",
       "       'Фотография', 'Авто', 'Наследие', 'Преступная Россия', 'Жизнь',\n",
       "       'Киберпреступность', 'Социальная сфера', 'Вооружение', 'Казахстан',\n",
       "       '69-я параллель', 'Экономика', 'Культура', 'Нацпроекты',\n",
       "       'Английский футбол'], dtype=object)"
      ]
     },
     "execution_count": 8,
     "metadata": {},
     "output_type": "execute_result"
    }
   ],
   "source": [
    "lenta.tags.unique()"
   ]
  },
  {
   "cell_type": "code",
   "execution_count": 9,
   "metadata": {},
   "outputs": [],
   "source": [
    "sets=['Госэкономика','Рынки','Экономика','Мировой бизнес','Бизнес','Деловой климат']\n",
    "sets1=['Госэкономика','Рынки','Экономика','Мировой бизнес','Бизнес','Деловой климат','Финансы компаний','Мир','Госрегулирование']\n",
    "lenta1=lenta[lenta['tags'].isin(sets1)]\n",
    "lenta1.reset_index(drop=True,inplace=True)"
   ]
  },
  {
   "cell_type": "markdown",
   "metadata": {},
   "source": [
    "# Разделяем датасет на недели"
   ]
  },
  {
   "cell_type": "code",
   "execution_count": 10,
   "metadata": {},
   "outputs": [],
   "source": [
    "date_len=(datetime.datetime(2019,11,30)-datetime.datetime(2016,1,1)).days+1\n",
    "weeks=list()\n",
    "weeks.append(lenta.date.unique()[0:7+date_len%7])\n",
    "for i in range((date_len//7)-1):\n",
    "    weeks.append(lenta.date.unique()[7+date_len%7+i*7:7+date_len%7+i*7+7])\n",
    "week_sets=list()\n",
    "for i in range(len(weeks)):\n",
    "    week_sets.append(lenta1[lenta1['date'].isin(weeks[i])])\n",
    "for i in range(len(week_sets)):\n",
    "    week_sets[i].reset_index(drop=True,inplace=True)"
   ]
  },
  {
   "cell_type": "markdown",
   "metadata": {},
   "source": [
    "# Объединяем тексты и заголовки в массивы"
   ]
  },
  {
   "cell_type": "code",
   "execution_count": 11,
   "metadata": {},
   "outputs": [],
   "source": [
    "def union(arr,column):\n",
    "    a=str()\n",
    "    for i in range(len(arr[column])):\n",
    "        a+=arr[column][i]\n",
    "        a+='\\t'\n",
    "    return a\n",
    "week_titles=pd.DataFrame(columns=['date','title'])\n",
    "for i in range(len(week_sets)):\n",
    "    new_row={'date':week_sets[i]['date'][0],'title':union(week_sets[i],'title')}\n",
    "    week_titles=week_titles.append(new_row,ignore_index=True)"
   ]
  },
  {
   "cell_type": "markdown",
   "metadata": {},
   "source": [
    "Нормализация численных данных"
   ]
  },
  {
   "cell_type": "code",
   "execution_count": 12,
   "metadata": {},
   "outputs": [],
   "source": [
    "scaler=preprocessing.StandardScaler()\n",
    "Norm_df = pd.DataFrame(np.hstack((scaler.fit_transform(Week_data.iloc[:,:-1]),(Week_data.iloc[:,-1]).to_numpy().reshape((-1,1)))),columns=Week_data.columns)"
   ]
  },
  {
   "cell_type": "markdown",
   "metadata": {},
   "source": [
    "# Просмотр наборов данных, их статистик"
   ]
  },
  {
   "cell_type": "code",
   "execution_count": 13,
   "metadata": {},
   "outputs": [
    {
     "data": {
      "text/html": [
       "<div>\n",
       "<style scoped>\n",
       "    .dataframe tbody tr th:only-of-type {\n",
       "        vertical-align: middle;\n",
       "    }\n",
       "\n",
       "    .dataframe tbody tr th {\n",
       "        vertical-align: top;\n",
       "    }\n",
       "\n",
       "    .dataframe thead th {\n",
       "        text-align: right;\n",
       "    }\n",
       "</style>\n",
       "<table border=\"1\" class=\"dataframe\">\n",
       "  <thead>\n",
       "    <tr style=\"text-align: right;\">\n",
       "      <th></th>\n",
       "      <th>date</th>\n",
       "      <th>title</th>\n",
       "    </tr>\n",
       "  </thead>\n",
       "  <tbody>\n",
       "    <tr>\n",
       "      <th>0</th>\n",
       "      <td>2016-01-01</td>\n",
       "      <td>Запрет туркам вести строительство в России вст...</td>\n",
       "    </tr>\n",
       "    <tr>\n",
       "      <th>1</th>\n",
       "      <td>2016-01-10</td>\n",
       "      <td>Завод Nissan в Петербурге сократит 250 сотрудн...</td>\n",
       "    </tr>\n",
       "    <tr>\n",
       "      <th>2</th>\n",
       "      <td>2016-01-17</td>\n",
       "      <td>Иран заявил о намерении купить 114 самолетов A...</td>\n",
       "    </tr>\n",
       "    <tr>\n",
       "      <th>3</th>\n",
       "      <td>2016-01-24</td>\n",
       "      <td>В России нашелся инвестор для реализации проек...</td>\n",
       "    </tr>\n",
       "    <tr>\n",
       "      <th>4</th>\n",
       "      <td>2016-01-31</td>\n",
       "      <td>Владимир Путин списал долг Монголии\\tПодрядчик...</td>\n",
       "    </tr>\n",
       "    <tr>\n",
       "      <th>...</th>\n",
       "      <td>...</td>\n",
       "      <td>...</td>\n",
       "    </tr>\n",
       "    <tr>\n",
       "      <th>199</th>\n",
       "      <td>2019-10-27</td>\n",
       "      <td>Сбербанк запустил приложение SberFood для похо...</td>\n",
       "    </tr>\n",
       "    <tr>\n",
       "      <th>200</th>\n",
       "      <td>2019-11-03</td>\n",
       "      <td>Песков заявил о возможности реализации «Северн...</td>\n",
       "    </tr>\n",
       "    <tr>\n",
       "      <th>201</th>\n",
       "      <td>2019-11-10</td>\n",
       "      <td>Пьяный пассажир самолета потрогал попутчицу на...</td>\n",
       "    </tr>\n",
       "    <tr>\n",
       "      <th>202</th>\n",
       "      <td>2019-11-17</td>\n",
       "      <td>Во Франции рассказали о «дедолларизации» Росси...</td>\n",
       "    </tr>\n",
       "    <tr>\n",
       "      <th>203</th>\n",
       "      <td>2019-11-24</td>\n",
       "      <td>Только москвичи и петербуржцы оказались склонн...</td>\n",
       "    </tr>\n",
       "  </tbody>\n",
       "</table>\n",
       "<p>204 rows × 2 columns</p>\n",
       "</div>"
      ],
      "text/plain": [
       "          date                                              title\n",
       "0   2016-01-01  Запрет туркам вести строительство в России вст...\n",
       "1   2016-01-10  Завод Nissan в Петербурге сократит 250 сотрудн...\n",
       "2   2016-01-17  Иран заявил о намерении купить 114 самолетов A...\n",
       "3   2016-01-24  В России нашелся инвестор для реализации проек...\n",
       "4   2016-01-31  Владимир Путин списал долг Монголии\\tПодрядчик...\n",
       "..         ...                                                ...\n",
       "199 2019-10-27  Сбербанк запустил приложение SberFood для похо...\n",
       "200 2019-11-03  Песков заявил о возможности реализации «Северн...\n",
       "201 2019-11-10  Пьяный пассажир самолета потрогал попутчицу на...\n",
       "202 2019-11-17  Во Франции рассказали о «дедолларизации» Росси...\n",
       "203 2019-11-24  Только москвичи и петербуржцы оказались склонн...\n",
       "\n",
       "[204 rows x 2 columns]"
      ]
     },
     "execution_count": 13,
     "metadata": {},
     "output_type": "execute_result"
    }
   ],
   "source": [
    "week_titles"
   ]
  },
  {
   "cell_type": "code",
   "execution_count": 14,
   "metadata": {},
   "outputs": [],
   "source": [
    "week_titles=week_titles[:50]"
   ]
  },
  {
   "cell_type": "code",
   "execution_count": 15,
   "metadata": {},
   "outputs": [],
   "source": [
    "Norm_df=Norm_df[:50]"
   ]
  },
  {
   "cell_type": "code",
   "execution_count": 16,
   "metadata": {},
   "outputs": [
    {
     "data": {
      "text/html": [
       "<div>\n",
       "<style scoped>\n",
       "    .dataframe tbody tr th:only-of-type {\n",
       "        vertical-align: middle;\n",
       "    }\n",
       "\n",
       "    .dataframe tbody tr th {\n",
       "        vertical-align: top;\n",
       "    }\n",
       "\n",
       "    .dataframe thead th {\n",
       "        text-align: right;\n",
       "    }\n",
       "</style>\n",
       "<table border=\"1\" class=\"dataframe\">\n",
       "  <thead>\n",
       "    <tr style=\"text-align: right;\">\n",
       "      <th></th>\n",
       "      <th>GAZP</th>\n",
       "      <th>SBER</th>\n",
       "      <th>SBERP</th>\n",
       "      <th>LKOH</th>\n",
       "      <th>GMKN</th>\n",
       "      <th>YNDX</th>\n",
       "      <th>NVTK</th>\n",
       "      <th>TATN</th>\n",
       "      <th>TATNP</th>\n",
       "      <th>ROSN</th>\n",
       "      <th>...</th>\n",
       "      <th>AFKS</th>\n",
       "      <th>LSRG</th>\n",
       "      <th>CBOM</th>\n",
       "      <th>UPRO</th>\n",
       "      <th>DSKY</th>\n",
       "      <th>LNTA</th>\n",
       "      <th>SFIN</th>\n",
       "      <th>RNFT</th>\n",
       "      <th>MVID</th>\n",
       "      <th>RTSI</th>\n",
       "    </tr>\n",
       "  </thead>\n",
       "  <tbody>\n",
       "    <tr>\n",
       "      <th>0</th>\n",
       "      <td>-0.551786</td>\n",
       "      <td>-2.036850</td>\n",
       "      <td>-1.789882</td>\n",
       "      <td>-1.396443</td>\n",
       "      <td>-0.912634</td>\n",
       "      <td>-1.548931</td>\n",
       "      <td>-1.145312</td>\n",
       "      <td>-1.237417</td>\n",
       "      <td>-1.070500</td>\n",
       "      <td>-2.055907</td>\n",
       "      <td>...</td>\n",
       "      <td>0.724802</td>\n",
       "      <td>-0.608353</td>\n",
       "      <td>-1.271597</td>\n",
       "      <td>2.998781</td>\n",
       "      <td>-1.396443</td>\n",
       "      <td>1.501545</td>\n",
       "      <td>-2.577921</td>\n",
       "      <td>-2.577921</td>\n",
       "      <td>-2.137167</td>\n",
       "      <td>746.267</td>\n",
       "    </tr>\n",
       "    <tr>\n",
       "      <th>1</th>\n",
       "      <td>-0.706797</td>\n",
       "      <td>-2.196955</td>\n",
       "      <td>-1.885372</td>\n",
       "      <td>-1.539689</td>\n",
       "      <td>-1.140575</td>\n",
       "      <td>-1.790851</td>\n",
       "      <td>-1.180487</td>\n",
       "      <td>-1.310503</td>\n",
       "      <td>-1.127231</td>\n",
       "      <td>-2.314956</td>\n",
       "      <td>...</td>\n",
       "      <td>0.683240</td>\n",
       "      <td>-1.032736</td>\n",
       "      <td>-1.422755</td>\n",
       "      <td>2.894710</td>\n",
       "      <td>-1.539689</td>\n",
       "      <td>1.366952</td>\n",
       "      <td>-2.724252</td>\n",
       "      <td>-2.724252</td>\n",
       "      <td>-2.523296</td>\n",
       "      <td>686.814</td>\n",
       "    </tr>\n",
       "    <tr>\n",
       "      <th>2</th>\n",
       "      <td>-0.797634</td>\n",
       "      <td>-2.290135</td>\n",
       "      <td>-1.957728</td>\n",
       "      <td>-1.545550</td>\n",
       "      <td>-1.020642</td>\n",
       "      <td>-1.827678</td>\n",
       "      <td>-1.159415</td>\n",
       "      <td>-1.320335</td>\n",
       "      <td>-1.157575</td>\n",
       "      <td>-2.323933</td>\n",
       "      <td>...</td>\n",
       "      <td>0.615997</td>\n",
       "      <td>-1.565859</td>\n",
       "      <td>-1.502779</td>\n",
       "      <td>2.540868</td>\n",
       "      <td>-1.545550</td>\n",
       "      <td>1.308986</td>\n",
       "      <td>-2.805505</td>\n",
       "      <td>-2.805505</td>\n",
       "      <td>-2.543482</td>\n",
       "      <td>651.824</td>\n",
       "    </tr>\n",
       "    <tr>\n",
       "      <th>3</th>\n",
       "      <td>-0.591593</td>\n",
       "      <td>-2.119770</td>\n",
       "      <td>-1.913150</td>\n",
       "      <td>-1.332164</td>\n",
       "      <td>-0.933967</td>\n",
       "      <td>-1.733393</td>\n",
       "      <td>-1.005387</td>\n",
       "      <td>-1.186945</td>\n",
       "      <td>-1.149460</td>\n",
       "      <td>-1.857682</td>\n",
       "      <td>...</td>\n",
       "      <td>0.680496</td>\n",
       "      <td>-1.435374</td>\n",
       "      <td>-1.486478</td>\n",
       "      <td>2.547806</td>\n",
       "      <td>-1.332164</td>\n",
       "      <td>1.031145</td>\n",
       "      <td>-2.666321</td>\n",
       "      <td>-2.666321</td>\n",
       "      <td>-2.581915</td>\n",
       "      <td>708.384</td>\n",
       "    </tr>\n",
       "    <tr>\n",
       "      <th>4</th>\n",
       "      <td>-0.621136</td>\n",
       "      <td>-2.079738</td>\n",
       "      <td>-1.880972</td>\n",
       "      <td>-1.236155</td>\n",
       "      <td>-0.962942</td>\n",
       "      <td>-1.722151</td>\n",
       "      <td>-0.930560</td>\n",
       "      <td>-1.140734</td>\n",
       "      <td>-1.150165</td>\n",
       "      <td>-1.622632</td>\n",
       "      <td>...</td>\n",
       "      <td>0.660303</td>\n",
       "      <td>-1.528578</td>\n",
       "      <td>-1.459803</td>\n",
       "      <td>0.764719</td>\n",
       "      <td>-1.236155</td>\n",
       "      <td>1.039141</td>\n",
       "      <td>-2.557232</td>\n",
       "      <td>-2.557232</td>\n",
       "      <td>-2.351321</td>\n",
       "      <td>718.658</td>\n",
       "    </tr>\n",
       "  </tbody>\n",
       "</table>\n",
       "<p>5 rows × 42 columns</p>\n",
       "</div>"
      ],
      "text/plain": [
       "       GAZP      SBER     SBERP      LKOH      GMKN      YNDX      NVTK  \\\n",
       "0 -0.551786 -2.036850 -1.789882 -1.396443 -0.912634 -1.548931 -1.145312   \n",
       "1 -0.706797 -2.196955 -1.885372 -1.539689 -1.140575 -1.790851 -1.180487   \n",
       "2 -0.797634 -2.290135 -1.957728 -1.545550 -1.020642 -1.827678 -1.159415   \n",
       "3 -0.591593 -2.119770 -1.913150 -1.332164 -0.933967 -1.733393 -1.005387   \n",
       "4 -0.621136 -2.079738 -1.880972 -1.236155 -0.962942 -1.722151 -0.930560   \n",
       "\n",
       "       TATN     TATNP      ROSN  ...      AFKS      LSRG      CBOM      UPRO  \\\n",
       "0 -1.237417 -1.070500 -2.055907  ...  0.724802 -0.608353 -1.271597  2.998781   \n",
       "1 -1.310503 -1.127231 -2.314956  ...  0.683240 -1.032736 -1.422755  2.894710   \n",
       "2 -1.320335 -1.157575 -2.323933  ...  0.615997 -1.565859 -1.502779  2.540868   \n",
       "3 -1.186945 -1.149460 -1.857682  ...  0.680496 -1.435374 -1.486478  2.547806   \n",
       "4 -1.140734 -1.150165 -1.622632  ...  0.660303 -1.528578 -1.459803  0.764719   \n",
       "\n",
       "       DSKY      LNTA      SFIN      RNFT      MVID     RTSI  \n",
       "0 -1.396443  1.501545 -2.577921 -2.577921 -2.137167  746.267  \n",
       "1 -1.539689  1.366952 -2.724252 -2.724252 -2.523296  686.814  \n",
       "2 -1.545550  1.308986 -2.805505 -2.805505 -2.543482  651.824  \n",
       "3 -1.332164  1.031145 -2.666321 -2.666321 -2.581915  708.384  \n",
       "4 -1.236155  1.039141 -2.557232 -2.557232 -2.351321  718.658  \n",
       "\n",
       "[5 rows x 42 columns]"
      ]
     },
     "execution_count": 16,
     "metadata": {},
     "output_type": "execute_result"
    }
   ],
   "source": [
    "Norm_df.head(5)"
   ]
  },
  {
   "cell_type": "code",
   "execution_count": 17,
   "metadata": {},
   "outputs": [
    {
     "data": {
      "text/html": [
       "<div>\n",
       "<style scoped>\n",
       "    .dataframe tbody tr th:only-of-type {\n",
       "        vertical-align: middle;\n",
       "    }\n",
       "\n",
       "    .dataframe tbody tr th {\n",
       "        vertical-align: top;\n",
       "    }\n",
       "\n",
       "    .dataframe thead th {\n",
       "        text-align: right;\n",
       "    }\n",
       "</style>\n",
       "<table border=\"1\" class=\"dataframe\">\n",
       "  <thead>\n",
       "    <tr style=\"text-align: right;\">\n",
       "      <th></th>\n",
       "      <th>GAZP</th>\n",
       "      <th>SBER</th>\n",
       "      <th>SBERP</th>\n",
       "      <th>LKOH</th>\n",
       "      <th>GMKN</th>\n",
       "      <th>YNDX</th>\n",
       "      <th>NVTK</th>\n",
       "      <th>TATN</th>\n",
       "      <th>TATNP</th>\n",
       "      <th>ROSN</th>\n",
       "      <th>...</th>\n",
       "      <th>AFKS</th>\n",
       "      <th>LSRG</th>\n",
       "      <th>CBOM</th>\n",
       "      <th>UPRO</th>\n",
       "      <th>DSKY</th>\n",
       "      <th>LNTA</th>\n",
       "      <th>SFIN</th>\n",
       "      <th>RNFT</th>\n",
       "      <th>MVID</th>\n",
       "      <th>RTSI</th>\n",
       "    </tr>\n",
       "  </thead>\n",
       "  <tbody>\n",
       "    <tr>\n",
       "      <th>count</th>\n",
       "      <td>50.000000</td>\n",
       "      <td>50.000000</td>\n",
       "      <td>50.000000</td>\n",
       "      <td>50.000000</td>\n",
       "      <td>50.000000</td>\n",
       "      <td>50.000000</td>\n",
       "      <td>50.000000</td>\n",
       "      <td>50.000000</td>\n",
       "      <td>50.000000</td>\n",
       "      <td>50.000000</td>\n",
       "      <td>...</td>\n",
       "      <td>50.000000</td>\n",
       "      <td>50.000000</td>\n",
       "      <td>50.000000</td>\n",
       "      <td>50.000000</td>\n",
       "      <td>50.000000</td>\n",
       "      <td>50.000000</td>\n",
       "      <td>50.000000</td>\n",
       "      <td>50.000000</td>\n",
       "      <td>50.000000</td>\n",
       "      <td>50.000000</td>\n",
       "    </tr>\n",
       "    <tr>\n",
       "      <th>mean</th>\n",
       "      <td>-0.353574</td>\n",
       "      <td>-1.315680</td>\n",
       "      <td>-1.367343</td>\n",
       "      <td>-0.988840</td>\n",
       "      <td>-0.784493</td>\n",
       "      <td>-1.264045</td>\n",
       "      <td>-0.837635</td>\n",
       "      <td>-1.110596</td>\n",
       "      <td>-1.146185</td>\n",
       "      <td>-0.757522</td>\n",
       "      <td>...</td>\n",
       "      <td>1.137424</td>\n",
       "      <td>-0.017551</td>\n",
       "      <td>-1.099514</td>\n",
       "      <td>0.482617</td>\n",
       "      <td>-0.988840</td>\n",
       "      <td>1.221999</td>\n",
       "      <td>-0.214991</td>\n",
       "      <td>-0.214991</td>\n",
       "      <td>-1.480411</td>\n",
       "      <td>908.728460</td>\n",
       "    </tr>\n",
       "    <tr>\n",
       "      <th>std</th>\n",
       "      <td>0.235990</td>\n",
       "      <td>0.489096</td>\n",
       "      <td>0.359951</td>\n",
       "      <td>0.241296</td>\n",
       "      <td>0.248104</td>\n",
       "      <td>0.349058</td>\n",
       "      <td>0.176490</td>\n",
       "      <td>0.138698</td>\n",
       "      <td>0.079251</td>\n",
       "      <td>0.613592</td>\n",
       "      <td>...</td>\n",
       "      <td>0.364702</td>\n",
       "      <td>1.134242</td>\n",
       "      <td>0.275058</td>\n",
       "      <td>1.142275</td>\n",
       "      <td>0.241296</td>\n",
       "      <td>0.342547</td>\n",
       "      <td>1.384859</td>\n",
       "      <td>1.384859</td>\n",
       "      <td>0.812076</td>\n",
       "      <td>106.204088</td>\n",
       "    </tr>\n",
       "    <tr>\n",
       "      <th>min</th>\n",
       "      <td>-0.797634</td>\n",
       "      <td>-2.290135</td>\n",
       "      <td>-1.957728</td>\n",
       "      <td>-1.545550</td>\n",
       "      <td>-1.176857</td>\n",
       "      <td>-1.827678</td>\n",
       "      <td>-1.180487</td>\n",
       "      <td>-1.320335</td>\n",
       "      <td>-1.284480</td>\n",
       "      <td>-2.323933</td>\n",
       "      <td>...</td>\n",
       "      <td>0.576985</td>\n",
       "      <td>-1.750868</td>\n",
       "      <td>-1.502779</td>\n",
       "      <td>-1.795433</td>\n",
       "      <td>-1.545550</td>\n",
       "      <td>0.685344</td>\n",
       "      <td>-2.805505</td>\n",
       "      <td>-2.805505</td>\n",
       "      <td>-2.791293</td>\n",
       "      <td>651.824000</td>\n",
       "    </tr>\n",
       "    <tr>\n",
       "      <th>25%</th>\n",
       "      <td>-0.533497</td>\n",
       "      <td>-1.779303</td>\n",
       "      <td>-1.677891</td>\n",
       "      <td>-1.128213</td>\n",
       "      <td>-0.961844</td>\n",
       "      <td>-1.658189</td>\n",
       "      <td>-0.957080</td>\n",
       "      <td>-1.189062</td>\n",
       "      <td>-1.209972</td>\n",
       "      <td>-1.000659</td>\n",
       "      <td>...</td>\n",
       "      <td>0.765236</td>\n",
       "      <td>-1.140619</td>\n",
       "      <td>-1.309016</td>\n",
       "      <td>-0.354046</td>\n",
       "      <td>-1.128213</td>\n",
       "      <td>0.902095</td>\n",
       "      <td>-0.781325</td>\n",
       "      <td>-0.781325</td>\n",
       "      <td>-2.348021</td>\n",
       "      <td>863.799500</td>\n",
       "    </tr>\n",
       "    <tr>\n",
       "      <th>50%</th>\n",
       "      <td>-0.411344</td>\n",
       "      <td>-1.226107</td>\n",
       "      <td>-1.394676</td>\n",
       "      <td>-1.013696</td>\n",
       "      <td>-0.808585</td>\n",
       "      <td>-1.227362</td>\n",
       "      <td>-0.834660</td>\n",
       "      <td>-1.160125</td>\n",
       "      <td>-1.158560</td>\n",
       "      <td>-0.626192</td>\n",
       "      <td>...</td>\n",
       "      <td>1.183741</td>\n",
       "      <td>0.218519</td>\n",
       "      <td>-1.184163</td>\n",
       "      <td>0.560046</td>\n",
       "      <td>-1.013696</td>\n",
       "      <td>1.231530</td>\n",
       "      <td>0.192583</td>\n",
       "      <td>0.192583</td>\n",
       "      <td>-1.616933</td>\n",
       "      <td>927.007000</td>\n",
       "    </tr>\n",
       "    <tr>\n",
       "      <th>75%</th>\n",
       "      <td>-0.224537</td>\n",
       "      <td>-0.896984</td>\n",
       "      <td>-1.016416</td>\n",
       "      <td>-0.768053</td>\n",
       "      <td>-0.643792</td>\n",
       "      <td>-0.984005</td>\n",
       "      <td>-0.760648</td>\n",
       "      <td>-1.027199</td>\n",
       "      <td>-1.081802</td>\n",
       "      <td>-0.359265</td>\n",
       "      <td>...</td>\n",
       "      <td>1.416004</td>\n",
       "      <td>1.041505</td>\n",
       "      <td>-0.817754</td>\n",
       "      <td>1.279872</td>\n",
       "      <td>-0.768053</td>\n",
       "      <td>1.541102</td>\n",
       "      <td>0.571576</td>\n",
       "      <td>0.571576</td>\n",
       "      <td>-0.755990</td>\n",
       "      <td>981.359750</td>\n",
       "    </tr>\n",
       "    <tr>\n",
       "      <th>max</th>\n",
       "      <td>0.254669</td>\n",
       "      <td>-0.276372</td>\n",
       "      <td>-0.572021</td>\n",
       "      <td>-0.484462</td>\n",
       "      <td>-0.090317</td>\n",
       "      <td>-0.761646</td>\n",
       "      <td>-0.287174</td>\n",
       "      <td>-0.654586</td>\n",
       "      <td>-0.892826</td>\n",
       "      <td>0.651648</td>\n",
       "      <td>...</td>\n",
       "      <td>1.774422</td>\n",
       "      <td>1.668297</td>\n",
       "      <td>-0.569159</td>\n",
       "      <td>2.998781</td>\n",
       "      <td>-0.484462</td>\n",
       "      <td>1.737739</td>\n",
       "      <td>2.466165</td>\n",
       "      <td>2.466165</td>\n",
       "      <td>-0.036062</td>\n",
       "      <td>1147.058000</td>\n",
       "    </tr>\n",
       "  </tbody>\n",
       "</table>\n",
       "<p>8 rows × 42 columns</p>\n",
       "</div>"
      ],
      "text/plain": [
       "            GAZP       SBER      SBERP       LKOH       GMKN       YNDX  \\\n",
       "count  50.000000  50.000000  50.000000  50.000000  50.000000  50.000000   \n",
       "mean   -0.353574  -1.315680  -1.367343  -0.988840  -0.784493  -1.264045   \n",
       "std     0.235990   0.489096   0.359951   0.241296   0.248104   0.349058   \n",
       "min    -0.797634  -2.290135  -1.957728  -1.545550  -1.176857  -1.827678   \n",
       "25%    -0.533497  -1.779303  -1.677891  -1.128213  -0.961844  -1.658189   \n",
       "50%    -0.411344  -1.226107  -1.394676  -1.013696  -0.808585  -1.227362   \n",
       "75%    -0.224537  -0.896984  -1.016416  -0.768053  -0.643792  -0.984005   \n",
       "max     0.254669  -0.276372  -0.572021  -0.484462  -0.090317  -0.761646   \n",
       "\n",
       "            NVTK       TATN      TATNP       ROSN  ...       AFKS       LSRG  \\\n",
       "count  50.000000  50.000000  50.000000  50.000000  ...  50.000000  50.000000   \n",
       "mean   -0.837635  -1.110596  -1.146185  -0.757522  ...   1.137424  -0.017551   \n",
       "std     0.176490   0.138698   0.079251   0.613592  ...   0.364702   1.134242   \n",
       "min    -1.180487  -1.320335  -1.284480  -2.323933  ...   0.576985  -1.750868   \n",
       "25%    -0.957080  -1.189062  -1.209972  -1.000659  ...   0.765236  -1.140619   \n",
       "50%    -0.834660  -1.160125  -1.158560  -0.626192  ...   1.183741   0.218519   \n",
       "75%    -0.760648  -1.027199  -1.081802  -0.359265  ...   1.416004   1.041505   \n",
       "max    -0.287174  -0.654586  -0.892826   0.651648  ...   1.774422   1.668297   \n",
       "\n",
       "            CBOM       UPRO       DSKY       LNTA       SFIN       RNFT  \\\n",
       "count  50.000000  50.000000  50.000000  50.000000  50.000000  50.000000   \n",
       "mean   -1.099514   0.482617  -0.988840   1.221999  -0.214991  -0.214991   \n",
       "std     0.275058   1.142275   0.241296   0.342547   1.384859   1.384859   \n",
       "min    -1.502779  -1.795433  -1.545550   0.685344  -2.805505  -2.805505   \n",
       "25%    -1.309016  -0.354046  -1.128213   0.902095  -0.781325  -0.781325   \n",
       "50%    -1.184163   0.560046  -1.013696   1.231530   0.192583   0.192583   \n",
       "75%    -0.817754   1.279872  -0.768053   1.541102   0.571576   0.571576   \n",
       "max    -0.569159   2.998781  -0.484462   1.737739   2.466165   2.466165   \n",
       "\n",
       "            MVID         RTSI  \n",
       "count  50.000000    50.000000  \n",
       "mean   -1.480411   908.728460  \n",
       "std     0.812076   106.204088  \n",
       "min    -2.791293   651.824000  \n",
       "25%    -2.348021   863.799500  \n",
       "50%    -1.616933   927.007000  \n",
       "75%    -0.755990   981.359750  \n",
       "max    -0.036062  1147.058000  \n",
       "\n",
       "[8 rows x 42 columns]"
      ]
     },
     "execution_count": 17,
     "metadata": {},
     "output_type": "execute_result"
    }
   ],
   "source": [
    "Norm_df.describe()"
   ]
  },
  {
   "cell_type": "markdown",
   "metadata": {},
   "source": [
    "# График RTSI"
   ]
  },
  {
   "cell_type": "code",
   "execution_count": 18,
   "metadata": {},
   "outputs": [
    {
     "data": {
      "image/png": "[encoded data removed]",
      "text/plain": [
       "<Figure size 1440x576 with 1 Axes>"
      ]
     },
     "metadata": {
      "needs_background": "light"
     },
     "output_type": "display_data"
    }
   ],
   "source": [
    "targets=Norm_df['RTSI'].to_list()\n",
    "x=np.linspace(0,len(targets),len(targets))\n",
    "fig, ax = plt.subplots(figsize=(20, 8))\n",
    "ax.plot(week_titles['date'],targets,color='green')\n",
    "ax.grid()\n",
    "ax.set_ylabel('RTSI')\n",
    "plt.show()"
   ]
  },
  {
   "cell_type": "markdown",
   "metadata": {},
   "source": [
    "# Выбираем размер тестовой выборки"
   ]
  },
  {
   "cell_type": "code",
   "execution_count": 19,
   "metadata": {},
   "outputs": [],
   "source": [
    "test_size=5"
   ]
  },
  {
   "cell_type": "markdown",
   "metadata": {},
   "source": [
    "# Rolling"
   ]
  },
  {
   "cell_type": "code",
   "execution_count": 20,
   "metadata": {},
   "outputs": [
    {
     "data": {
      "application/vnd.jupyter.widget-view+json": {
       "model_id": "59f8c969f3634ad3a07114c729d6e319",
       "version_major": 2,
       "version_minor": 0
      },
      "text/plain": [
       "HBox(children=(FloatProgress(value=0.0, max=3.0), HTML(value='')))"
      ]
     },
     "metadata": {},
     "output_type": "display_data"
    },
    {
     "name": "stdout",
     "output_type": "stream",
     "text": [
      "\n"
     ]
    }
   ],
   "source": [
    "rolling_data = Norm_df.copy()\n",
    "rolling_data.insert(0,'time',np.arange(1,len(rolling_data)+1))\n",
    "cols=list(rolling_data.columns)[1:]\n",
    "index_cols=['time']\n",
    "shift_range = [1, 2, 3]\n",
    "for month_shift in tqdm(shift_range):\n",
    "    train_shift = rolling_data[index_cols + cols].copy()\n",
    "    \n",
    "    train_shift['time'] = train_shift['time'] + month_shift\n",
    "    \n",
    "    new_columns = lambda x: '{}_lag_{}'.format(x, month_shift) if x in cols else x\n",
    "    train_shift = train_shift.rename(columns=new_columns )\n",
    "\n",
    "    rolling_data = pd.merge(rolling_data, train_shift, on=index_cols, how='left').fillna(0)"
   ]
  },
  {
   "cell_type": "code",
   "execution_count": 21,
   "metadata": {},
   "outputs": [],
   "source": [
    "RTSI=rolling_data['RTSI']\n",
    "rolling_data_=rolling_data.drop(['RTSI'],axis=1)\n",
    "Norm_df_=Norm_df.drop(['RTSI'],axis=1)"
   ]
  },
  {
   "cell_type": "markdown",
   "metadata": {},
   "source": [
    "# Подготовка"
   ]
  },
  {
   "cell_type": "markdown",
   "metadata": {},
   "source": [
    "Кросс-валидация"
   ]
  },
  {
   "cell_type": "code",
   "execution_count": 22,
   "metadata": {},
   "outputs": [],
   "source": [
    "tscv_1=TimeSeriesSplit(n_splits=5,test_size=1)"
   ]
  },
  {
   "cell_type": "markdown",
   "metadata": {},
   "source": [
    "Сетки параметров"
   ]
  },
  {
   "cell_type": "code",
   "execution_count": 23,
   "metadata": {},
   "outputs": [],
   "source": [
    "#LightGBM\n",
    "lgbm_params = {\n",
    "    'n_estimators' : [300,500,1000,2000],\n",
    "    'reg_lambda' : [1,2,3,4],\n",
    "    'num_leaves': [15,20,25,30,35]\n",
    "}\n",
    "#Lasso\n",
    "lasso_params = {\n",
    "    'max_iter' : np.arange(3,25),\n",
    "    'alpha' : np.linspace(0.0001,3,30),\n",
    "}"
   ]
  },
  {
   "cell_type": "markdown",
   "metadata": {},
   "source": [
    "# Модели"
   ]
  },
  {
   "cell_type": "code",
   "execution_count": 24,
   "metadata": {},
   "outputs": [],
   "source": [
    "the_lasso=linear_model.Lasso(random_state=7)\n",
    "lgbm_model=lgb.LGBMRegressor(random_state=7,verbosity=-1,n_jobs=-1)"
   ]
  },
  {
   "cell_type": "code",
   "execution_count": 25,
   "metadata": {},
   "outputs": [],
   "source": [
    "def Graph_result(predicted,real):\n",
    "    ind=np.linspace(1,len(predicted),len(predicted))\n",
    "    fig, axs = plt.subplots(figsize=(8, 4))\n",
    "    axs.plot(ind, predicted,color='red',label='Прогноз')\n",
    "    axs.plot(ind, real,color='navy',label='Истинные значения')\n",
    "    axs.grid()\n",
    "    axs.set_xlabel('T')\n",
    "    axs.set_ylabel('RTSI')\n",
    "    axs.legend()\n",
    "    plt.show()"
   ]
  },
  {
   "cell_type": "code",
   "execution_count": 26,
   "metadata": {},
   "outputs": [],
   "source": [
    "#Разделение на обучающую и тестовую выборку для бустингов\n",
    "def model_train_test(df,targets):\n",
    "    y_cv, y_test =targets.iloc[:-1], targets.iloc[-1:].to_numpy()\n",
    "    x_cv, x_test =df.iloc[:-1], df.iloc[-1:]\n",
    "    return x_cv, x_test, y_cv, y_test\n",
    "#Находим лучшие гиперпараметры\n",
    "def estimator_selection(df,targets, tscv, params, model):\n",
    "    x_cv, x_test, y_cv, y_test = model_train_test(df,targets)\n",
    "    grid_cv=model_selection.GridSearchCV(model, params,scoring='neg_mean_absolute_error',cv=tscv,n_jobs=-1)\n",
    "    grid_cv.fit(x_cv,y_cv) \n",
    "    return grid_cv.best_estimator_\n"
   ]
  },
  {
   "cell_type": "code",
   "execution_count": 27,
   "metadata": {},
   "outputs": [],
   "source": [
    "models=list()"
   ]
  },
  {
   "cell_type": "code",
   "execution_count": 28,
   "metadata": {},
   "outputs": [
    {
     "name": "stdout",
     "output_type": "stream",
     "text": [
      "Wall time: 16 s\n"
     ]
    }
   ],
   "source": [
    "%%time\n",
    "models.append(estimator_selection(rolling_data_[:50-test_size],RTSI[:50-test_size],tscv_1,lgbm_params,lgbm_model))"
   ]
  },
  {
   "cell_type": "code",
   "execution_count": 29,
   "metadata": {},
   "outputs": [
    {
     "name": "stdout",
     "output_type": "stream",
     "text": [
      "Wall time: 9.04 s\n"
     ]
    }
   ],
   "source": [
    "%%time\n",
    "models.append(estimator_selection(Norm_df_[:50-test_size],RTSI[:50-test_size],tscv_1,lgbm_params,lgbm_model))"
   ]
  },
  {
   "cell_type": "code",
   "execution_count": 30,
   "metadata": {},
   "outputs": [
    {
     "name": "stdout",
     "output_type": "stream",
     "text": [
      "Wall time: 13.7 s\n"
     ]
    }
   ],
   "source": [
    "%%time\n",
    "models.append(estimator_selection(rolling_data_[:50-test_size],RTSI[:50-test_size],tscv_1,lasso_params,the_lasso))"
   ]
  },
  {
   "cell_type": "code",
   "execution_count": 31,
   "metadata": {},
   "outputs": [
    {
     "name": "stdout",
     "output_type": "stream",
     "text": [
      "Wall time: 11 s\n"
     ]
    }
   ],
   "source": [
    "%%time\n",
    "models.append(estimator_selection(Norm_df_[:50-test_size],RTSI[:50-test_size],tscv_1,lasso_params,the_lasso))"
   ]
  },
  {
   "cell_type": "code",
   "execution_count": 32,
   "metadata": {},
   "outputs": [
    {
     "data": {
      "text/plain": [
       "[LGBMRegressor(n_estimators=300, num_leaves=15, random_state=7, reg_lambda=2,\n",
       "               verbosity=-1),\n",
       " LGBMRegressor(n_estimators=500, num_leaves=15, random_state=7, reg_lambda=3,\n",
       "               verbosity=-1),\n",
       " Lasso(alpha=1.4483275862068965, max_iter=24, random_state=7),\n",
       " Lasso(alpha=2.172441379310345, max_iter=3, random_state=7)]"
      ]
     },
     "execution_count": 32,
     "metadata": {},
     "output_type": "execute_result"
    }
   ],
   "source": [
    "models"
   ]
  },
  {
   "cell_type": "code",
   "execution_count": 33,
   "metadata": {},
   "outputs": [],
   "source": [
    "model_data=[Norm_df_,rolling_data_,Norm_df_,rolling_data_]"
   ]
  },
  {
   "cell_type": "markdown",
   "metadata": {},
   "source": [
    "# Делаем прогноз на несколько недель"
   ]
  },
  {
   "cell_type": "code",
   "execution_count": 34,
   "metadata": {},
   "outputs": [],
   "source": [
    "inds=[41+42*i for i in range(1,len(shift_range)+1)]"
   ]
  },
  {
   "cell_type": "code",
   "execution_count": 35,
   "metadata": {},
   "outputs": [
    {
     "data": {
      "text/plain": [
       "[83, 125, 167]"
      ]
     },
     "execution_count": 35,
     "metadata": {},
     "output_type": "execute_result"
    }
   ],
   "source": [
    "#Номера столбцов с лагами RTSI\n",
    "inds"
   ]
  },
  {
   "cell_type": "code",
   "execution_count": 36,
   "metadata": {},
   "outputs": [],
   "source": [
    "#Функция замены значений в массиве\n",
    "def replacing(np_,arr,inds):\n",
    "    arr=arr[-len(shift_range):]\n",
    "    for i in range(len(inds)):\n",
    "        np_[inds[i]]=arr[-(i+1)]\n",
    "    return np_\n",
    "    "
   ]
  },
  {
   "cell_type": "code",
   "execution_count": 37,
   "metadata": {},
   "outputs": [],
   "source": [
    "def model_prediction(df,targets,test_size,model,visual=True,subsequence=True):\n",
    "    if subsequence==True:\n",
    "        x_train, x_test=df[:-test_size], df[-test_size:]\n",
    "        y_train, y_test=targets[:-test_size], targets[-test_size:]\n",
    "        results=list(targets[:-test_size].to_numpy())[-len(shift_range):]\n",
    "        x_test.reset_index(drop=True, inplace=True)\n",
    "        for i in range(len(x_test)):\n",
    "            #Заменяем в первой строке тестовой выборке значения RTSI_lag_ , чтобы они соответствовали предыдущим прогнозам\n",
    "            x_series=pd.Series(replacing(np.array(x_test.loc[i]),results,inds),index=df.columns)\n",
    "            #Обучаем модель\n",
    "            model.fit(x_train,y_train.to_list())\n",
    "            #Предсказываем результат\n",
    "            prediction=model.predict([x_test.loc[i]])\n",
    "            results.append(prediction[0])\n",
    "            #Добавляем первую строку тестовой выборке в обучающую\n",
    "            #Добавляем прогноз в число меток обучающей выборки\n",
    "            y_train.loc[len(y_train)]=prediction\n",
    "            x_train.loc[len(x_train)]=x_series\n",
    "        final_results=list(results[-test_size:])    \n",
    "        if visual:\n",
    "            print('R2-score',metrics.r2_score(list(y_test),final_results))\n",
    "            Graph_result(final_results,list(y_test))\n",
    "        return final_results, list(y_test), metrics.r2_score(list(y_test),final_results)\n",
    "    if subsequence==False:\n",
    "        x_train, x_test=df[:-test_size], df[-test_size:]\n",
    "        y_train, y_test=targets[:-test_size], targets[-test_size:]\n",
    "        model.fit(x_train,y_train.to_list())\n",
    "        prediction=model.predict(x_test)\n",
    "        r2_result=metrics.r2_score(prediction,y_test)  \n",
    "        if visual:\n",
    "            print('R2-score',r2_result)\n",
    "            Graph_result(prediction,list(y_test))\n",
    "        return prediction, list(y_test), metrics.r2_score(prediction,list(y_test))\n",
    "        \n",
    "        \n",
    "        \n",
    "    "
   ]
  },
  {
   "cell_type": "code",
   "execution_count": 38,
   "metadata": {},
   "outputs": [
    {
     "name": "stdout",
     "output_type": "stream",
     "text": [
      "R2-score -2.1460213488667734\n"
     ]
    },
    {
     "data": {
      "image/png": "[encoded data removed]",
      "text/plain": [
       "<Figure size 576x288 with 1 Axes>"
      ]
     },
     "metadata": {
      "needs_background": "light"
     },
     "output_type": "display_data"
    }
   ],
   "source": [
    "x_tr1=model_prediction(Norm_df_,RTSI,5,models[0],subsequence=False)"
   ]
  },
  {
   "cell_type": "code",
   "execution_count": 39,
   "metadata": {},
   "outputs": [
    {
     "name": "stdout",
     "output_type": "stream",
     "text": [
      "R2-score -1.6578438291567226\n"
     ]
    },
    {
     "data": {
      "image/png": "[encoded data removed]",
      "text/plain": [
       "<Figure size 576x288 with 1 Axes>"
      ]
     },
     "metadata": {
      "needs_background": "light"
     },
     "output_type": "display_data"
    }
   ],
   "source": [
    "x_tr2=model_prediction(rolling_data_,RTSI,5,models[1])"
   ]
  },
  {
   "cell_type": "code",
   "execution_count": 40,
   "metadata": {},
   "outputs": [
    {
     "name": "stdout",
     "output_type": "stream",
     "text": [
      "R2-score 0.7073503315958121\n"
     ]
    },
    {
     "data": {
      "image/png": "[encoded data removed]",
      "text/plain": [
       "<Figure size 576x288 with 1 Axes>"
      ]
     },
     "metadata": {
      "needs_background": "light"
     },
     "output_type": "display_data"
    }
   ],
   "source": [
    "x_tr3=model_prediction(Norm_df_,RTSI,5,models[2],subsequence=False)"
   ]
  },
  {
   "cell_type": "code",
   "execution_count": 41,
   "metadata": {},
   "outputs": [
    {
     "name": "stdout",
     "output_type": "stream",
     "text": [
      "R2-score 0.6925445622008672\n"
     ]
    },
    {
     "data": {
      "image/png": "[encoded data removed]",
      "text/plain": [
       "<Figure size 576x288 with 1 Axes>"
      ]
     },
     "metadata": {
      "needs_background": "light"
     },
     "output_type": "display_data"
    }
   ],
   "source": [
    "x_tr4=model_prediction(rolling_data_,RTSI,5,models[3])"
   ]
  },
  {
   "cell_type": "markdown",
   "metadata": {},
   "source": [
    "# Обработка текста"
   ]
  },
  {
   "cell_type": "markdown",
   "metadata": {},
   "source": [
    "Разделяем текст на слова, отбрасываем \"стоп-слова\", удаляем суффиксы, приставки и прочее, исключаем слова с длиной 1 и 2"
   ]
  },
  {
   "cell_type": "code",
   "execution_count": 42,
   "metadata": {},
   "outputs": [],
   "source": [
    "def the_tokenize(text):\n",
    "    tokens=word_tokenize(text,language='russian')\n",
    "    tokens_not_punkt=[i for i in tokens if i not in string.punctuation]\n",
    "    tokens_not_punkt_or_stop=[i for i in tokens_not_punkt if i not in stopwords.words('russian')]\n",
    "    long_words=[i for i in tokens_not_punkt_or_stop if len(i)>2]\n",
    "    not_digit_words=[i for i in long_words if i.isalpha()]\n",
    "    snowball=SnowballStemmer(language='russian')\n",
    "    stemmed_tokens=[snowball.stem(i) for i in not_digit_words]\n",
    "    return stemmed_tokens"
   ]
  },
  {
   "cell_type": "markdown",
   "metadata": {},
   "source": [
    "# TF-IDF"
   ]
  },
  {
   "cell_type": "code",
   "execution_count": 43,
   "metadata": {},
   "outputs": [
    {
     "name": "stdout",
     "output_type": "stream",
     "text": [
      "Количество текстовых признаков 101\n"
     ]
    }
   ],
   "source": [
    "v=TfidfVectorizer(tokenizer=lambda x: the_tokenize(x),ngram_range=(1,2),min_df=20, max_df=0.5)\n",
    "text_features=v.fit_transform(week_titles['title'])\n",
    "text_features.toarray()\n",
    "print('Количество текстовых признаков',text_features.shape[1])\n",
    "title_f_names=list()\n",
    "def numpy_transform(sparse_arr):\n",
    "    a=np.zeros((sparse_arr.shape[0],sparse_arr.shape[1]),dtype=np.float64)\n",
    "    for i in range(sparse_arr.shape[0]):\n",
    "        for j in range(sparse_arr.shape[1]):\n",
    "            a[i,j]=sparse_arr[i,j]\n",
    "    return a"
   ]
  },
  {
   "cell_type": "code",
   "execution_count": 44,
   "metadata": {},
   "outputs": [],
   "source": [
    "numpy_text=numpy_transform(text_features)"
   ]
  },
  {
   "cell_type": "markdown",
   "metadata": {},
   "source": [
    "# Понижаем размерность"
   ]
  },
  {
   "cell_type": "markdown",
   "metadata": {},
   "source": [
    "Используем метод главных компонент, создаем датасеты, где данные сжаты до 2,3,5...,50 признаков, чтобы впоследствие оценить лучший результат"
   ]
  },
  {
   "cell_type": "code",
   "execution_count": 45,
   "metadata": {},
   "outputs": [],
   "source": [
    "def text_ftr_name(length):\n",
    "    names_arr=list()\n",
    "    for i in range(length):\n",
    "        names_arr.append('text_feat_'+str(i))\n",
    "    return names_arr\n",
    "def PCA_text_data(text,max_features):\n",
    "    text_dfs=list()\n",
    "    for i in range(len(max_features)):\n",
    "        pca = PCA(n_components = max_features[i])\n",
    "        reduced_ftr= pca.fit_transform(text)\n",
    "        title_f_names=text_ftr_name(reduced_ftr.shape[1])\n",
    "        text_dfs.append(pd.DataFrame(reduced_ftr,columns=title_f_names))\n",
    "    return text_dfs\n",
    "nums_features=[2,3,4,5,7,10,15,20,30,50]\n",
    "text_dfs=PCA_text_data(numpy_text,nums_features)"
   ]
  },
  {
   "cell_type": "markdown",
   "metadata": {},
   "source": [
    "Оцениваем модели на разных данных"
   ]
  },
  {
   "cell_type": "code",
   "execution_count": 46,
   "metadata": {},
   "outputs": [],
   "source": [
    "lasso_model_df1=pd.DataFrame(columns=['dataset','R2'])\n",
    "lgbm_model_df1=pd.DataFrame(columns=['dataset','R2'])\n",
    "lasso_model_df2=pd.DataFrame(columns=['dataset','R2'])\n",
    "lgbm_model_df2=pd.DataFrame(columns=['dataset','R2'])"
   ]
  },
  {
   "cell_type": "code",
   "execution_count": 47,
   "metadata": {},
   "outputs": [],
   "source": [
    "#Проверяем прогнозы для разных моделей и датасетов (образованных слиянием вещественных и текстовых признаков)\n",
    "def model_cv_checker(dataset,num_dataset):\n",
    "    global lasso_model_df1\n",
    "    global lgbm_model_df1\n",
    "    global lasso_model_df2\n",
    "    global lgbm_model_df2\n",
    "    prediction_=model_prediction(pd.concat([model_data[0],dataset],axis=1),RTSI,5,models[0],visual=False,subsequence=False)\n",
    "    new_row1={'dataset':num_dataset,'R2':prediction_[2]}\n",
    "    lgbm_model_df1=lgbm_model_df1.append(new_row1,ignore_index=True)\n",
    "    prediction_=model_prediction(pd.concat([model_data[1],dataset],axis=1),RTSI,5,models[1],visual=False)\n",
    "    new_row2={'dataset':num_dataset,'R2':prediction_[2]}\n",
    "    lgbm_model_df2=lgbm_model_df2.append(new_row2,ignore_index=True)\n",
    "    prediction_=model_prediction(pd.concat([model_data[2],dataset],axis=1),RTSI,5,models[2],visual=False,subsequence=False)\n",
    "    new_row3={'dataset':num_dataset,'R2':prediction_[2]}\n",
    "    lasso_model_df1=lasso_model_df1.append(new_row3,ignore_index=True)\n",
    "    prediction_=model_prediction(pd.concat([model_data[3],dataset],axis=1),RTSI,5,models[3],visual=False)\n",
    "    new_row4={'dataset':num_dataset,'R2':prediction_[2]}\n",
    "    lasso_model_df2=lasso_model_df2.append(new_row4,ignore_index=True)\n",
    "\n",
    "\n",
    "    "
   ]
  },
  {
   "cell_type": "code",
   "execution_count": 48,
   "metadata": {},
   "outputs": [],
   "source": [
    "for i in range(len(text_dfs)):\n",
    "    model_cv_checker(text_dfs[i],i+1)"
   ]
  },
  {
   "cell_type": "code",
   "execution_count": 49,
   "metadata": {},
   "outputs": [],
   "source": [
    "lasso_model_df1['PCA_num']=nums_features\n",
    "lgbm_model_df1['PCA_num']=nums_features\n",
    "lasso_model_df2['PCA_num']=nums_features\n",
    "lgbm_model_df2['PCA_num']=nums_features"
   ]
  },
  {
   "cell_type": "code",
   "execution_count": 50,
   "metadata": {},
   "outputs": [
    {
     "data": {
      "image/png": "[encoded data removed]",
      "text/plain": [
       "<Figure size 576x288 with 1 Axes>"
      ]
     },
     "metadata": {
      "needs_background": "light"
     },
     "output_type": "display_data"
    }
   ],
   "source": [
    "result_list=[lasso_model_df1,lasso_model_df2,lgbm_model_df1,lgbm_model_df2]\n",
    "label_list=[\"Лассо\",\"Лассо с доп.признаками\",\"Градиентный бустинг\",\"Градиентный бустинг с доп. признаками\"]\n",
    "fig, axs = plt.subplots(figsize=(8, 4))\n",
    "axs.grid()\n",
    "for i in range(len(result_list)):\n",
    "    axs.plot(result_list[i]['PCA_num'], result_list[i]['R2'],label=label_list[i])  \n",
    "    axs.set_xlabel('Число текстовых признаков')\n",
    "    axs.set_ylabel('R2')\n",
    "    axs.legend()\n",
    "plt.show()"
   ]
  },
  {
   "cell_type": "code",
   "execution_count": 51,
   "metadata": {},
   "outputs": [],
   "source": [
    "lasso_model_df1_=lasso_model_df1.sort_values(by=['R2'],ascending=False)"
   ]
  },
  {
   "cell_type": "code",
   "execution_count": 52,
   "metadata": {},
   "outputs": [],
   "source": [
    "lasso_model_df2_=lasso_model_df2.sort_values(by=['R2'],ascending=False)"
   ]
  },
  {
   "cell_type": "code",
   "execution_count": 53,
   "metadata": {},
   "outputs": [],
   "source": [
    "lgbm_model_df1_= lgbm_model_df1.sort_values(by=['R2'],ascending=False)"
   ]
  },
  {
   "cell_type": "code",
   "execution_count": 54,
   "metadata": {},
   "outputs": [],
   "source": [
    "lgbm_model_df2_ = lgbm_model_df2.sort_values(by=['R2'],ascending=False)"
   ]
  },
  {
   "cell_type": "markdown",
   "metadata": {},
   "source": [
    "Вывод моделей с лучшим качеством R2-score"
   ]
  },
  {
   "cell_type": "code",
   "execution_count": 55,
   "metadata": {},
   "outputs": [
    {
     "data": {
      "text/html": [
       "<div>\n",
       "<style scoped>\n",
       "    .dataframe tbody tr th:only-of-type {\n",
       "        vertical-align: middle;\n",
       "    }\n",
       "\n",
       "    .dataframe tbody tr th {\n",
       "        vertical-align: top;\n",
       "    }\n",
       "\n",
       "    .dataframe thead th {\n",
       "        text-align: right;\n",
       "    }\n",
       "</style>\n",
       "<table border=\"1\" class=\"dataframe\">\n",
       "  <thead>\n",
       "    <tr style=\"text-align: right;\">\n",
       "      <th></th>\n",
       "      <th>dataset</th>\n",
       "      <th>R2</th>\n",
       "      <th>PCA_num</th>\n",
       "    </tr>\n",
       "  </thead>\n",
       "  <tbody>\n",
       "    <tr>\n",
       "      <th>0</th>\n",
       "      <td>1.0</td>\n",
       "      <td>0.70735</td>\n",
       "      <td>2</td>\n",
       "    </tr>\n",
       "  </tbody>\n",
       "</table>\n",
       "</div>"
      ],
      "text/plain": [
       "   dataset       R2  PCA_num\n",
       "0      1.0  0.70735        2"
      ]
     },
     "execution_count": 55,
     "metadata": {},
     "output_type": "execute_result"
    }
   ],
   "source": [
    "lasso_model_df1_.head(1)"
   ]
  },
  {
   "cell_type": "code",
   "execution_count": 56,
   "metadata": {},
   "outputs": [
    {
     "data": {
      "text/html": [
       "<div>\n",
       "<style scoped>\n",
       "    .dataframe tbody tr th:only-of-type {\n",
       "        vertical-align: middle;\n",
       "    }\n",
       "\n",
       "    .dataframe tbody tr th {\n",
       "        vertical-align: top;\n",
       "    }\n",
       "\n",
       "    .dataframe thead th {\n",
       "        text-align: right;\n",
       "    }\n",
       "</style>\n",
       "<table border=\"1\" class=\"dataframe\">\n",
       "  <thead>\n",
       "    <tr style=\"text-align: right;\">\n",
       "      <th></th>\n",
       "      <th>dataset</th>\n",
       "      <th>R2</th>\n",
       "      <th>PCA_num</th>\n",
       "    </tr>\n",
       "  </thead>\n",
       "  <tbody>\n",
       "    <tr>\n",
       "      <th>0</th>\n",
       "      <td>1.0</td>\n",
       "      <td>0.692545</td>\n",
       "      <td>2</td>\n",
       "    </tr>\n",
       "  </tbody>\n",
       "</table>\n",
       "</div>"
      ],
      "text/plain": [
       "   dataset        R2  PCA_num\n",
       "0      1.0  0.692545        2"
      ]
     },
     "execution_count": 56,
     "metadata": {},
     "output_type": "execute_result"
    }
   ],
   "source": [
    "lasso_model_df2_.head(1)"
   ]
  },
  {
   "cell_type": "code",
   "execution_count": 57,
   "metadata": {},
   "outputs": [
    {
     "data": {
      "text/html": [
       "<div>\n",
       "<style scoped>\n",
       "    .dataframe tbody tr th:only-of-type {\n",
       "        vertical-align: middle;\n",
       "    }\n",
       "\n",
       "    .dataframe tbody tr th {\n",
       "        vertical-align: top;\n",
       "    }\n",
       "\n",
       "    .dataframe thead th {\n",
       "        text-align: right;\n",
       "    }\n",
       "</style>\n",
       "<table border=\"1\" class=\"dataframe\">\n",
       "  <thead>\n",
       "    <tr style=\"text-align: right;\">\n",
       "      <th></th>\n",
       "      <th>dataset</th>\n",
       "      <th>R2</th>\n",
       "      <th>PCA_num</th>\n",
       "    </tr>\n",
       "  </thead>\n",
       "  <tbody>\n",
       "    <tr>\n",
       "      <th>5</th>\n",
       "      <td>6.0</td>\n",
       "      <td>-4.771807</td>\n",
       "      <td>10</td>\n",
       "    </tr>\n",
       "  </tbody>\n",
       "</table>\n",
       "</div>"
      ],
      "text/plain": [
       "   dataset        R2  PCA_num\n",
       "5      6.0 -4.771807       10"
      ]
     },
     "execution_count": 57,
     "metadata": {},
     "output_type": "execute_result"
    }
   ],
   "source": [
    "lgbm_model_df1_.head(1)"
   ]
  },
  {
   "cell_type": "code",
   "execution_count": 58,
   "metadata": {},
   "outputs": [
    {
     "data": {
      "text/html": [
       "<div>\n",
       "<style scoped>\n",
       "    .dataframe tbody tr th:only-of-type {\n",
       "        vertical-align: middle;\n",
       "    }\n",
       "\n",
       "    .dataframe tbody tr th {\n",
       "        vertical-align: top;\n",
       "    }\n",
       "\n",
       "    .dataframe thead th {\n",
       "        text-align: right;\n",
       "    }\n",
       "</style>\n",
       "<table border=\"1\" class=\"dataframe\">\n",
       "  <thead>\n",
       "    <tr style=\"text-align: right;\">\n",
       "      <th></th>\n",
       "      <th>dataset</th>\n",
       "      <th>R2</th>\n",
       "      <th>PCA_num</th>\n",
       "    </tr>\n",
       "  </thead>\n",
       "  <tbody>\n",
       "    <tr>\n",
       "      <th>4</th>\n",
       "      <td>5.0</td>\n",
       "      <td>-1.408486</td>\n",
       "      <td>7</td>\n",
       "    </tr>\n",
       "  </tbody>\n",
       "</table>\n",
       "</div>"
      ],
      "text/plain": [
       "   dataset        R2  PCA_num\n",
       "4      5.0 -1.408486        7"
      ]
     },
     "execution_count": 58,
     "metadata": {},
     "output_type": "execute_result"
    }
   ],
   "source": [
    "lgbm_model_df2_.head(1)"
   ]
  },
  {
   "cell_type": "markdown",
   "metadata": {},
   "source": [
    "# Выводы: "
   ]
  },
  {
   "cell_type": "markdown",
   "metadata": {},
   "source": [
    "Регрессия Лассо хорошо подходит для предсказания индекса RTSI, Коэффициент детерминации выше 0.5.\n",
    "Градиентный бустинг не показывает хороших результатов на выбранной выборке, \n",
    "даже при добавлении предыдущих значений в качестве признаков. \n",
    "Текстовые признаки не сильно влияют не качество моделей. Оценка на регрессии Лассо не меняется. \n",
    "Градиентный бустинг с доп. признаками показывает несколько лучший, но всё еще неудовлетворительный\n",
    "результат при добавлении текстовых данных.\n",
    "При использовании градиентного бустинга без дополнительных данных, R2 уменьшается по мере увеличения числа текстовых признаков.\n"
   ]
  },
  {
   "cell_type": "code",
   "execution_count": null,
   "metadata": {},
   "outputs": [],
   "source": []
  }
 ],
 "metadata": {
  "kernelspec": {
   "display_name": "Python 3",
   "language": "python",
   "name": "python3"
  },
  "language_info": {
   "codemirror_mode": {
    "name": "ipython",
    "version": 3
   },
   "file_extension": ".py",
   "mimetype": "text/x-python",
   "name": "python",
   "nbconvert_exporter": "python",
   "pygments_lexer": "ipython3",
   "version": "3.8.3"
  }
 },
 "nbformat": 4,
 "nbformat_minor": 4
}
