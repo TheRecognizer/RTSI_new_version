{
 "cells": [
  {
   "cell_type": "code",
   "execution_count": 1,
   "metadata": {},
   "outputs": [
    {
     "name": "stderr",
     "output_type": "stream",
     "text": [
      "[nltk_data] Downloading package punkt to\n",
      "[nltk_data]     C:\\Users\\asus\\AppData\\Roaming\\nltk_data...\n",
      "[nltk_data]   Package punkt is already up-to-date!\n"
     ]
    }
   ],
   "source": [
    "# Импорт цен акций за указанный период\n",
    "import urllib.request\n",
    "import datetime\n",
    "import time\n",
    "import math\n",
    "import random\n",
    "import nltk\n",
    "import os\n",
    "import string\n",
    "import pandas as pd\n",
    "import numpy as np\n",
    "import scipy.stats as sps\n",
    "import warnings\n",
    "from sklearn import preprocessing\n",
    "from nltk.corpus import stopwords\n",
    "from nltk.tokenize import word_tokenize\n",
    "from sklearn.pipeline import Pipeline\n",
    "from nltk.stem import SnowballStemmer\n",
    "from sklearn.feature_extraction.text import TfidfVectorizer\n",
    "warnings.filterwarnings('ignore')\n",
    "nltk.download('punkt')\n",
    "# Тикеры акций и их id в системе Finam\n",
    "tickers={'DJ.W1IDU':20447,'DJ.W1FIN':20459,'NASDAQCOMP':82075,'EURUSD':83,'USDCNY':83225,'INDUSDX':438796,'NYMEX.NG':18949,'ICE.BRN':19473,'GDAX.BCH-USD':491809,'comex.SI':18952, 'comex.GC':18953, 'USDCB':82485, 'D&J-IND':91, 'LME.Nickel':18932,'LME.Alum':18930, 'RTSI':95,'ABRD':82460,'AESL':181867,'AFKS':19715,'AFLT':29,'AGRO':399716,'AKRN':17564,'ALBK':82616,'ALNU':81882,'ALRS':81820,'AMEZ':20702,'APTK':13855,'AQUA':35238,'ARMD':19676,'ARSA':19915,'ASSB':16452,'AVAN':82843,'AVAZ':39,'AVAZP':40,'BANE':81757,'BANEP':81758,'BGDE':175840,'BISV':35242,'BISVP':35243,'BLNG':21078,'BRZL':81901,'BSPB':20066,'CBOM':420694,'CHEP':20999,'CHGZ':81933,'CHKZ':21000,'CHMF':16136,'CHMK':21001,'CHZN':19960,'CLSB':16712,'CLSBP':16713,'CNTL':21002,'CNTLP':81575,'DASB':16825,'DGBZ':17919,'DIOD':35363,'DIXY':18564,'DVEC':19724,'DZRD':74744,'DZRDP':74745,'ELTZ':81934,'ENRU':16440,'EPLN':451471,'ERCO':81935,'FEES':20509,'FESH':20708,'FORTP':82164,'GAZA':81997,'GAZAP':81998,'GAZC':81398,'GAZP':16842,'GAZS':81399,'GAZT':82115,'GCHE':20125,'GMKN':795,'GRAZ':16610,'GRNT':449114,'GTLC':152876,'GTPR':175842,'GTSS':436120,'HALS':17698,'HIMC':81939,'HIMCP':81940,'HYDR':20266,'IDJT':388276,'IDVP':409486,'IGST':81885,'IGST03':81886,'IGSTP':81887,'IRAO':20516,'IRGZ':9,'IRKT':15547,'ISKJ':17137,'JNOS':15722,'JNOSP':15723,'KAZT':81941,'KAZTP':81942,'KBSB':19916,'KBTK':35285,'KCHE':20030,'KCHEP':20498,'KGKC':83261,'KGKCP':152350,'KLSB':16329,'KMAZ':15544,'KMEZ':22525,'KMTZ':81903,'KOGK':20710,'KRKN':81891,'KRKNP':81892,'KRKO':81905,'KRKOP':81906,'KROT':510,'KROTP':511,'KRSB':20912,'KRSBP':20913,'KRSG':15518,'KSGR':75094,'KTSB':16284,'KTSBP':16285,'KUBE':522,'KUNF':81943,'KUZB':83165,'KZMS':17359,'KZOS':81856,'KZOSP':81857,'LIFE':74584,'LKOH':8,'LNTA':385792,'LNZL':21004,'LNZLP':22094,'LPSB':16276,'LSNG':31,'LSNGP':542,'LSRG':19736,'LVHK':152517,'MAGE':74562,'MAGEP':74563,'MAGN':16782,'MERF':20947,'MFGS':30,'MFGSP':51,'MFON':152516,'MGNT':17086,'MGNZ':20892,'MGTS':12984,'MGTSP':12983,'MGVM':81829,'MISB':16330,'MISBP':16331,'MNFD':80390,'MOBB':82890,'MOEX':152798,'MORI':81944,'MOTZ':21116,'MRKC':20235,'MRKK':20412,'MRKP':20107,'MRKS':20346,'MRKU':20402,'MRKV':20286,'MRKY':20681,'MRKZ':20309,'MRSB':16359,'MSNG':6,'MSRS':16917,'MSST':152676,'MSTT':74549,'MTLR':21018,'MTLRP':80745,'MTSS':15523,'MUGS':81945,'MUGSP':81946,'MVID':19737,'NAUK':81992,'NFAZ':81287,'NKHP':450432,'NKNC':20100,'NKNCP':20101,'NKSH':81947,'NLMK':17046,'NMTP':19629,'NNSB':16615,'NNSBP':16616,'NPOF':81858,'NSVZ':81929,'NVTK':17370,'ODVA':20737,'OFCB':80728,'OGKB':18684,'OMSH':22891,'OMZZP':15844,'OPIN':20711,'OSMP':21006,'OTCP':407627,'PAZA':81896,'PHOR':81114,'PHST':19717,'PIKK':18654,'PLSM':81241,'PLZL':17123,'PMSB':16908,'PMSBP':16909,'POLY':175924,'PRFN':83121,'PRIM':17850,'PRIN':22806,'PRMB':80818,'PRTK':35247,'PSBR':152320,'QIWI':181610,'RASP':17713,'RBCM':74779,'RDRB':181755,'RGSS':181934,'RKKE':20321,'RLMN':152677,'RLMNP':388313,'RNAV':66644,'RODNP':66693,'ROLO':181316,'ROSB':16866,'ROSN':17273,'ROST':20637,'RSTI':20971,'RSTIP':20972,'RTGZ':152397,'RTKM':7,'RTKMP':15,'RTSB':16783,'RTSBP':16784,'RUAL':414279,'RUALR':74718,'RUGR':66893,'RUSI':81786,'RUSP':20712,'RZSB':16455,'SAGO':445,'SAGOP':70,'SARE':11,'SAREP':24,'SBER':3,'SBERP':23,'SELG':81360,'SELGP':82610,'SELL':21166,'SIBG':436091,'SIBN':2,'SKYC':83122,'SNGS':4,'SNGSP':13,'STSB':20087,'STSBP':20088,'SVAV':16080,'SYNG':19651,'SZPR':22401,'TAER':80593,'TANL':81914,'TANLP':81915,'TASB':16265,'TASBP':16266,'TATN':825,'TATNP':826,'TGKA':18382,'TGKB':17597,'TGKBP':18189,'TGKD':18310,'TGKDP':18391,'TGKN':18176,'TGKO':81899,'TNSE':420644,'TORS':16797,'TORSP':16798,'TRCN':74561,'TRMK':18441,'TRNFP':1012,'TTLK':18371,'TUCH':74746,'TUZA':20716,'UCSS':175781,'UKUZ':20717,'UNAC':22843,'UNKL':82493,'UPRO':18584,'URFD':75124,'URKA':19623,'URKZ':82611,'USBN':81953,'UTAR':15522,'UTII':81040,'UTSY':419504,'UWGN':414560,'VDSB':16352,'VGSB':16456,'VGSBP':16457,'VJGZ':81954,'VJGZP':81955,'VLHZ':17257,'VRAO':20958,'VRAOP':20959,'VRSB':16546,'VRSBP':16547,'VSMO':15965,'VSYD':83251,'VSYDP':83252,'VTBR':19043,'VTGK':19632,'VTRS':82886,'VZRZ':17068,'VZRZP':17067,'WTCM':19095,'WTCMP':19096,'YAKG':81917,'YKEN':81766,'YKENP':81769,'YNDX':388383,'YRSB':16342,'YRSBP':16343,'ZHIV':181674,'ZILL':81918,'ZMZN':556,'ZMZNP':603,'ZVEZ':82001,'FIVE':7,'DSKY':8,'SFIN':9,'RNFT':9}\n",
    "# Доп.признаки\n",
    "extra=['DJ.W1FIN','DJ.W1IDU','NASDAQCOMP','EURUSD','USDCNY','NYMEX.NG','INDUSDX','ICE.BRN', 'LME.Alum','LME.Nickel','comex.GC','comex.SI','D&J-IND']\n",
    "# Акции, входящие в индекс RTSI\n",
    "RTSI=['GAZP','SBER','SBERP','LKOH','GMKN','YNDX','NVTK','TATN','TATNP','ROSN','SNGS','SNGSP','MGNT','FIVE','MTSS','POLY','ALRS','CHMF','PLZL','IRAO','NLMK','VTBR','MOEX','PHOR','TRNFP','MAGN','RTKM','RUAL','AFLT','PIKK','HYDR','FEES','AFKS','LSRG','CBOM','UPRO','DSKY','LNTA','SFIN','RNFT','MVID']\n",
    "#Перевод массива строк в дату\n",
    "def array2date(arr):\n",
    "    new_arr=list()\n",
    "    for item in arr:\n",
    "        if len(item)==6:\n",
    "            a=int(item[0:2])\n",
    "            b=int(item[2:4])\n",
    "            c=2000+int(item[4:])\n",
    "            new_arr.append(datetime.date(c,b,a))\n",
    "        elif len(item)==8:\n",
    "            a=int(item[6:])\n",
    "            b=int(item[4:6])\n",
    "            c=2000+int(item[2:4])\n",
    "            new_arr.append(datetime.date(c,b,a))\n",
    "    return new_arr\n",
    "# Формируем дату и время\n",
    "def dtformed(d,mn,y,h=0,m=0,s=0):\n",
    "    return datetime.datetime(y,mn,d,h,m,s)\n",
    "\n",
    "\n",
    "# Возвращаем ID инструмента по его имени \n",
    "def getID(name):\n",
    "    return tickers[name]\n",
    "def load(name, dtstart=datetime.datetime.today(), \n",
    "         dtfin=datetime.datetime.today(),step=8, \n",
    "         market=1, MSOR=1, mstimever=0, sourse='finam', moment='close'):\n",
    "    # market - инструмент\n",
    "    # 0 — начала свечи, 1 — окончания свечи\n",
    "    # mstimever - не московское — mstimever=0; московское — mstime='on', mstimever='1'\n",
    "    #  период котировок (тики, 1 мин., 5 мин., 10 мин., 15 мин., 30 мин., 1 час, 1 день, 1 неделя, 1 месяц)\n",
    "    id =getID(name) # id инстурмента\n",
    "    e = '.txt' # расширение получаемого файла: .txt либо .csv\n",
    "    yf = str(dtstart.year)\n",
    "    yt = str(dtfin.year)\n",
    "    month_start = str(dtstart.month)\n",
    "    day_start = str(dtstart.day)\n",
    "    month_end = str(dtfin.month)\n",
    "    day_end = str(dtfin.day)\n",
    "    dtf = '3' # формат даты (1 — ггггммдд, 2 — ггммдд, 3 — ддммгг, 4 — дд/мм/гг, 5 — мм/дд/гг)\n",
    "    tmf = '1' # формат времени (1 — ччммсс, 2 — ччмм, 3 — чч: мм: сс, 4 — чч: мм)\n",
    "    sep = '5' # параметр разделитель полей (1 — запятая (,), 2 — точка (.), 3 — точка с запятой (;), 4 — табуляция (»), 5 — пробел ( ))\n",
    "    sep2 = '1' # параметр разделитель разрядов (1 — нет, 2 — точка (.), 3 — запятая (,), 4 — пробел ( ), 5 — кавычка ('))\n",
    "    datf = '1' # Перечень получаемых данных (1-6)\n",
    "    at = '0' # добавлять заголовок в файл (0 — нет, 1 — да)\n",
    "\n",
    "    year_start = yf[2:]\n",
    "    year_end = yt[2:]\n",
    "    mf = (int(month_start.replace('0', ''))) - 1\n",
    "    mt = (int(month_end.replace('0', ''))) - 1\n",
    "    df = (int(day_start.replace('0', ''))) - 1\n",
    "    dt = (int(day_end.replace('0', ''))) - 1\n",
    "    \n",
    "    user_agent = 'Chrome/98.0.4758.102 Safari/537.36'\n",
    "    # Запрос\n",
    "    headers={'User-Agent':user_agent,} \n",
    "    \n",
    "    site='http://export.finam.ru/' + str(name) + '_' + str(year_start) + str(month_start) + str(\n",
    "            day_start) + '_' + str(year_end) + str(month_end) + str(day_end) + str(e) + '?market=' + str(\n",
    "            market) + '&em=' + str(id) + '&code=' + str(name) + '&apply=0&df=' + str(df) + '&mf=' + str(\n",
    "            mf) + '&yf=' + str(yf) + '&from=' + str(day_start) + '.' + str(month_start) + '.' + str(yf) + '&dt=' + str(\n",
    "            dt) + '&mt=' + str(mt) + '&yt=' + str(yt) + '&to=' + str(day_end) + '.' + str(month_end) + '.' + str(\n",
    "            yt) + '&p=' + str(step) + '&f=' + str(name) + '_' + str(year_start) + str(month_start) + str(\n",
    "            day_start) + '_' + str(year_end) + str(month_end) + str(day_end) + '&e=' + str(e) + '&cn=' + str(\n",
    "            name) + '&dtf=' + str(dtf) + '&tmf=' + str(tmf) + '&MSOR=' + str(MSOR) + '&mstimever=' + str(\n",
    "            mstimever) + '&sep=' + str(sep) + '&sep2=' + str(sep2) + '&datf=' + str(datf) + '&at=' + str(at)\n",
    "    #Пока не удалось получить данные, пробуем это сделать\n",
    "    errors=0\n",
    "    while ('data' not in locals()):\n",
    "        try:\n",
    "            request=urllib.request.Request(site, None, headers) #The assembled request\n",
    "            response = urllib.request.urlopen(request) \n",
    "            data = response.read() # The data u need\n",
    "            #print(data)\n",
    "        except urllib.error.HTTPError as e:\n",
    "            errors+=1\n",
    "\n",
    "    # Выделение нужных данных\n",
    "    \n",
    "    content = str(data)\n",
    "    #print(content)\n",
    "    stokelist=content.split(r'\\r\\n')\n",
    "    n=len(stokelist)\n",
    "    price_str=list()\n",
    "    dates_str=list()\n",
    "    for k in range(n-1):\n",
    "        stokelist1=stokelist[k].split(' ')\n",
    "        price_str.append(stokelist1[7])\n",
    "        dates_str.append(stokelist1[2])\n",
    "    dates=array2date(dates_str)\n",
    "    prices=list()\n",
    "    for item in price_str:\n",
    "        prices.append(float(item))      \n",
    "    return prices,dates"
   ]
  },
  {
   "cell_type": "markdown",
   "metadata": {},
   "source": [
    "# Сбор данных по месяцам"
   ]
  },
  {
   "cell_type": "code",
   "execution_count": 2,
   "metadata": {},
   "outputs": [],
   "source": [
    "feature_names=RTSI+extra+['RTSI']\n",
    "n_start=dtformed(3,1,2016)\n",
    "n_finish=dtformed(31,12,2019)\n",
    "p_start=dtformed(1, 12, 2015)\n",
    "p_finish=dtformed(31, 12, 2015)"
   ]
  },
  {
   "cell_type": "code",
   "execution_count": 3,
   "metadata": {},
   "outputs": [],
   "source": [
    "def month_transform(arr):\n",
    "    year1=arr[1][0].year\n",
    "    year2=arr[1][-1].year\n",
    "    num_months=(year2-year1+1)*12\n",
    "    months=[[] for i in range(num_months)]\n",
    "    for i in range(len(arr[0])):   \n",
    "        k=(arr[1][i].year-year1)*12+arr[1][i].month-1\n",
    "        months[k].append(arr[0][i])\n",
    "    month_data=[0 for i in range(len(months))]\n",
    "    for i in range(len(month_data)):\n",
    "        month_data[i]=round(np.mean(months[i]),3)\n",
    "    return np.reshape(np.array(month_data),(-1,1))    "
   ]
  },
  {
   "cell_type": "code",
   "execution_count": 4,
   "metadata": {},
   "outputs": [],
   "source": [
    "targets1=month_transform(load(\"RTSI\", n_start, n_finish))"
   ]
  },
  {
   "cell_type": "code",
   "execution_count": 5,
   "metadata": {},
   "outputs": [],
   "source": [
    "def arr_to_mtrx(arr):\n",
    "    v=arr[0]\n",
    "    for i in range(1,len(arr)):\n",
    "        v=np.hstack((v,arr[i]))\n",
    "    return v\n",
    "#Данные по акицям, дополнительным признакам, RTSI\n",
    "stocks_arr1=list()\n",
    "for item in RTSI:\n",
    "    stocks_arr1.append(month_transform(load(item, n_start, n_finish)))\n",
    "addstocks_arr1=list()\n",
    "for item in extra:\n",
    "    addstocks_arr1.append(month_transform(load(item, n_start, n_finish)))\n",
    "addstocks1=arr_to_mtrx(addstocks_arr1)\n",
    "stocks1=arr_to_mtrx(stocks_arr1)\n",
    "#Объединяем массивы с данными по акциям RTSI и массивы с данными доп.признаков\n",
    "df1=pd.DataFrame(np.hstack((stocks1,addstocks1,targets1)), columns=RTSI+extra+['RTSI'])"
   ]
  },
  {
   "cell_type": "markdown",
   "metadata": {},
   "source": [
    "# Сохраняем данные"
   ]
  },
  {
   "cell_type": "code",
   "execution_count": 6,
   "metadata": {},
   "outputs": [],
   "source": [
    "df1.to_csv(\"Month_Data.csv\",index=False)"
   ]
  },
  {
   "cell_type": "markdown",
   "metadata": {},
   "source": [
    "# Объединяем данные по неделям"
   ]
  },
  {
   "cell_type": "code",
   "execution_count": 7,
   "metadata": {},
   "outputs": [],
   "source": [
    "def num_zeros(arr):\n",
    "    zeros=0\n",
    "    for i in range(len(arr)):\n",
    "        if arr[i]==0:\n",
    "            zeros+=1\n",
    "    return zeros\n",
    "def the_mean(arr):\n",
    "    if len(arr)-num_zeros(arr)==0:\n",
    "        return 0\n",
    "    else:\n",
    "        return round(sum(arr)/(len(arr)-num_zeros(arr)),3)\n",
    "def week_lists(arr,date1,date2):\n",
    "    inf=arr[0]\n",
    "    date=arr[1]\n",
    "    date1=datetime.date(date1.year,date1.month,date1.day)\n",
    "    date2=datetime.date(date2.year,date2.month,date2.day)\n",
    "    delta=(date2-date1).days+1\n",
    "    new_arr=[0 for i in range(delta)]\n",
    "    for i in range(len(inf)):\n",
    "        if  (date[i]-date1).days<len(new_arr):\n",
    "            new_arr[(date[i]-date1).days]=inf[i]\n",
    "    week_arr=[]\n",
    "    week_arr.append(new_arr[0:7+(delta%7)])\n",
    "    for i in range((delta//7)-1):\n",
    "        week_arr.append(new_arr[7+(delta%7)+i*7:7+(delta%7)+i*7+7])\n",
    "    week_data=np.zeros((len(week_arr),1),dtype=np.float64)\n",
    "    for i in range(len(week_arr)):\n",
    "        week_data[i,0]=the_mean(week_arr[i])\n",
    "    return week_data\n",
    "def filler(arr):\n",
    "    for i in range(0, arr.shape[0]-1):\n",
    "        if arr[i,0]!=0 and arr[i+1,0]==0:\n",
    "            arr[i+1,0]=arr[i,0]\n",
    "    return arr   "
   ]
  },
  {
   "cell_type": "code",
   "execution_count": 8,
   "metadata": {},
   "outputs": [],
   "source": [
    "a=datetime.date(2016,1,1)\n",
    "b=datetime.date(2019,11,30)\n",
    "targets2=filler(week_lists(load('RTSI',n_start,n_finish),a,b))"
   ]
  },
  {
   "cell_type": "code",
   "execution_count": 9,
   "metadata": {},
   "outputs": [],
   "source": [
    "#Данные по акицям, дополнительным признакам, RTSI\n",
    "stocks_arr2=list()\n",
    "for item in RTSI:\n",
    "    stocks_arr2.append(filler(week_lists(load(item,n_start,n_finish),a,b)))\n",
    "addstocks_arr2=list()\n",
    "for item in extra:\n",
    "    addstocks_arr2.append(filler(week_lists(load(item,n_start,n_finish),a,b)))\n",
    "#Объединяем массивы с данными по акциям\n",
    "def arr_to_mtrx(arr):\n",
    "    v=arr[0]\n",
    "    for i in range(1,len(arr)):\n",
    "        v=np.hstack((v,arr[i]))\n",
    "    return v\n",
    "addstocks2=arr_to_mtrx(addstocks_arr2)\n",
    "stocks2=arr_to_mtrx(stocks_arr2)\n",
    "df2=pd.DataFrame(np.hstack((stocks2,addstocks2,targets2)),columns=RTSI+extra+['RTSI'])"
   ]
  },
  {
   "cell_type": "code",
   "execution_count": 10,
   "metadata": {},
   "outputs": [],
   "source": [
    "df2.to_csv(\"Week_Data.csv\",index=False)"
   ]
  },
  {
   "cell_type": "markdown",
   "metadata": {},
   "source": [
    "# Загружаем датасет с текстами"
   ]
  },
  {
   "cell_type": "code",
   "execution_count": 11,
   "metadata": {},
   "outputs": [],
   "source": [
    "lenta=pd.read_csv('lenta-ru-news.csv')"
   ]
  },
  {
   "cell_type": "markdown",
   "metadata": {},
   "source": [
    "# Считаем число пропусков"
   ]
  },
  {
   "cell_type": "code",
   "execution_count": 12,
   "metadata": {},
   "outputs": [
    {
     "data": {
      "text/plain": [
       "url          0\n",
       "title        0\n",
       "text         5\n",
       "topic    62002\n",
       "tags     27219\n",
       "date         0\n",
       "dtype: int64"
      ]
     },
     "execution_count": 12,
     "metadata": {},
     "output_type": "execute_result"
    }
   ],
   "source": [
    "lenta.isna().sum()"
   ]
  },
  {
   "cell_type": "markdown",
   "metadata": {},
   "source": [
    "# Фильтруем датафрейм"
   ]
  },
  {
   "cell_type": "code",
   "execution_count": 13,
   "metadata": {},
   "outputs": [],
   "source": [
    "#Отбрасываем столбцы, не представляющие интерес, удаляем данные с пропусками, берем период с 2016 по 2019 год\n",
    "lenta.drop(columns = ['url', 'topic'],axis = 1, inplace=True)\n",
    "lenta[\"date\"] = pd.to_datetime(lenta[\"date\"],format=\"%Y/%m/%d\")\n",
    "lenta=lenta[lenta['date']>pd.Timestamp('2015-12-31 00:00:00')]\n",
    "lenta=lenta[lenta['date']<pd.Timestamp('2019-12-01 00:00:00')]\n",
    "lenta=lenta.dropna()\n",
    "lenta.reset_index(drop=True, inplace=True)"
   ]
  },
  {
   "cell_type": "code",
   "execution_count": 14,
   "metadata": {},
   "outputs": [
    {
     "data": {
      "text/html": [
       "<div>\n",
       "<style scoped>\n",
       "    .dataframe tbody tr th:only-of-type {\n",
       "        vertical-align: middle;\n",
       "    }\n",
       "\n",
       "    .dataframe tbody tr th {\n",
       "        vertical-align: top;\n",
       "    }\n",
       "\n",
       "    .dataframe thead th {\n",
       "        text-align: right;\n",
       "    }\n",
       "</style>\n",
       "<table border=\"1\" class=\"dataframe\">\n",
       "  <thead>\n",
       "    <tr style=\"text-align: right;\">\n",
       "      <th></th>\n",
       "      <th>title</th>\n",
       "      <th>text</th>\n",
       "      <th>tags</th>\n",
       "      <th>date</th>\n",
       "    </tr>\n",
       "  </thead>\n",
       "  <tbody>\n",
       "    <tr>\n",
       "      <th>0</th>\n",
       "      <td>В Техасе разрешили открыто носить оружие</td>\n",
       "      <td>В американском штате Техас владельцам огнестре...</td>\n",
       "      <td>Политика</td>\n",
       "      <td>2016-01-01</td>\n",
       "    </tr>\n",
       "    <tr>\n",
       "      <th>1</th>\n",
       "      <td>Запрет туркам вести строительство в России вст...</td>\n",
       "      <td>Постановление правительства, запрещающее турец...</td>\n",
       "      <td>Госэкономика</td>\n",
       "      <td>2016-01-01</td>\n",
       "    </tr>\n",
       "    <tr>\n",
       "      <th>2</th>\n",
       "      <td>Вертолет Bell совершил жесткую посадку в Росто...</td>\n",
       "      <td>В Аксайком районе Ростовской области совершил ...</td>\n",
       "      <td>Происшествия</td>\n",
       "      <td>2016-01-01</td>\n",
       "    </tr>\n",
       "    <tr>\n",
       "      <th>3</th>\n",
       "      <td>В Новом Орлеане неизвестный расстрелял посетит...</td>\n",
       "      <td>В Новом Орлеане неизвестный в ночь на 1 января...</td>\n",
       "      <td>Происшествия</td>\n",
       "      <td>2016-01-01</td>\n",
       "    </tr>\n",
       "    <tr>\n",
       "      <th>4</th>\n",
       "      <td>Путин подписал указ о транзите грузов из Украи...</td>\n",
       "      <td>Президент Владимир Путин подписал указ о мерах...</td>\n",
       "      <td>Политика</td>\n",
       "      <td>2016-01-01</td>\n",
       "    </tr>\n",
       "    <tr>\n",
       "      <th>5</th>\n",
       "      <td>Сенатор сообщил об угрозе терактов из-за отмен...</td>\n",
       "      <td>Член комитета Совфеда по международным делам И...</td>\n",
       "      <td>Политика</td>\n",
       "      <td>2016-01-01</td>\n",
       "    </tr>\n",
       "    <tr>\n",
       "      <th>6</th>\n",
       "      <td>Косачев назвал сближение Европы и России тренд...</td>\n",
       "      <td>Глава комитета Совета Федерации по международн...</td>\n",
       "      <td>Политика</td>\n",
       "      <td>2016-01-01</td>\n",
       "    </tr>\n",
       "    <tr>\n",
       "      <th>7</th>\n",
       "      <td>Подросток погиб на пожаре после запуска фейерв...</td>\n",
       "      <td>Подросток стал жертвой пожара, произошедшего в...</td>\n",
       "      <td>Общество</td>\n",
       "      <td>2016-01-01</td>\n",
       "    </tr>\n",
       "    <tr>\n",
       "      <th>8</th>\n",
       "      <td>В МВД заявили об отсутствии серьезных нарушени...</td>\n",
       "      <td>Новогодняя ночь в России прошла спокойно. Така...</td>\n",
       "      <td>Общество</td>\n",
       "      <td>2016-01-01</td>\n",
       "    </tr>\n",
       "    <tr>\n",
       "      <th>9</th>\n",
       "      <td>В новогоднюю ночь во Франции сожгли более 800 ...</td>\n",
       "      <td>Во Франции в новогоднюю ночь в общей сложности...</td>\n",
       "      <td>Происшествия</td>\n",
       "      <td>2016-01-01</td>\n",
       "    </tr>\n",
       "  </tbody>\n",
       "</table>\n",
       "</div>"
      ],
      "text/plain": [
       "                                               title  \\\n",
       "0           В Техасе разрешили открыто носить оружие   \n",
       "1  Запрет туркам вести строительство в России вст...   \n",
       "2  Вертолет Bell совершил жесткую посадку в Росто...   \n",
       "3  В Новом Орлеане неизвестный расстрелял посетит...   \n",
       "4  Путин подписал указ о транзите грузов из Украи...   \n",
       "5  Сенатор сообщил об угрозе терактов из-за отмен...   \n",
       "6  Косачев назвал сближение Европы и России тренд...   \n",
       "7  Подросток погиб на пожаре после запуска фейерв...   \n",
       "8  В МВД заявили об отсутствии серьезных нарушени...   \n",
       "9  В новогоднюю ночь во Франции сожгли более 800 ...   \n",
       "\n",
       "                                                text          tags       date  \n",
       "0  В американском штате Техас владельцам огнестре...      Политика 2016-01-01  \n",
       "1  Постановление правительства, запрещающее турец...  Госэкономика 2016-01-01  \n",
       "2  В Аксайком районе Ростовской области совершил ...  Происшествия 2016-01-01  \n",
       "3  В Новом Орлеане неизвестный в ночь на 1 января...  Происшествия 2016-01-01  \n",
       "4  Президент Владимир Путин подписал указ о мерах...      Политика 2016-01-01  \n",
       "5  Член комитета Совфеда по международным делам И...      Политика 2016-01-01  \n",
       "6  Глава комитета Совета Федерации по международн...      Политика 2016-01-01  \n",
       "7  Подросток стал жертвой пожара, произошедшего в...      Общество 2016-01-01  \n",
       "8  Новогодняя ночь в России прошла спокойно. Така...      Общество 2016-01-01  \n",
       "9  Во Франции в новогоднюю ночь в общей сложности...  Происшествия 2016-01-01  "
      ]
     },
     "execution_count": 14,
     "metadata": {},
     "output_type": "execute_result"
    }
   ],
   "source": [
    "lenta.head(10)"
   ]
  },
  {
   "cell_type": "markdown",
   "metadata": {},
   "source": [
    "# Определяем темы новостей, выбираем интересующие"
   ]
  },
  {
   "cell_type": "code",
   "execution_count": 15,
   "metadata": {},
   "outputs": [
    {
     "data": {
      "text/plain": [
       "array(['Политика', 'Госэкономика', 'Происшествия', 'Общество', 'Звери',\n",
       "       'Украина', 'Кино', 'Прибалтика', 'Музыка', 'Рынки', 'Конфликты',\n",
       "       'Наука', 'Деньги', 'Футбол', 'Люди', 'Преступность', 'Интернет',\n",
       "       'Coцсети', 'Летние виды', 'Криминал', 'Следствие и суд',\n",
       "       'Средняя Азия', 'Бизнес', 'Техника', 'Еда', 'Все', 'Мир',\n",
       "       'Бокс и ММА', 'Вещи', 'Россия', 'Явления', 'Гаджеты', 'Пресса',\n",
       "       'Полиция и спецслужбы', 'Мировой бизнес', 'Достижения', 'Книги',\n",
       "       'Стиль', 'Деловой климат', 'ТВ и радио', 'Космос', 'Инструменты',\n",
       "       'Молдавия', 'Зимние виды', 'Закавказье', 'Регионы', 'Квартира',\n",
       "       'События', 'Движение', 'Офис', 'Часы', 'Город', 'Игры', 'Москва',\n",
       "       'Искусство', 'Мнения', 'Финансы компаний', 'Дача', 'Белоруссия',\n",
       "       'Софт', 'Театр', 'История', 'Реклама', 'Вкусы', 'Внешний вид',\n",
       "       'Страноведение', 'Автобизнес', 'Аналитика рынка', 'Производители',\n",
       "       'Туризм', 'Госрегулирование', 'Выборы', 'Экология', 'Оружие',\n",
       "       'Мемы', 'Мировой опыт', 'Инновации', 'Хоккей', 'Вирусные ролики',\n",
       "       'Фотография', 'Авто', 'Наследие', 'Преступная Россия', 'Жизнь',\n",
       "       'Киберпреступность', 'Социальная сфера', 'Вооружение', 'Казахстан',\n",
       "       '69-я параллель', 'Экономика', 'Культура', 'Нацпроекты',\n",
       "       'Английский футбол'], dtype=object)"
      ]
     },
     "execution_count": 15,
     "metadata": {},
     "output_type": "execute_result"
    }
   ],
   "source": [
    "lenta.tags.unique()"
   ]
  },
  {
   "cell_type": "code",
   "execution_count": 16,
   "metadata": {},
   "outputs": [],
   "source": [
    "useful_tags=['Госэкономика','Рынки','Бизнес','Экономика','Финансы компаний','Деловой климат','Мировой бизнес']\n",
    "#useful_tags1=['Госэкономика','Рынки','Бизнес','Россия','Экономика','Финансы компаний','Деловой климат','Мировой бизнес','Госрегулирование']"
   ]
  },
  {
   "cell_type": "code",
   "execution_count": 17,
   "metadata": {},
   "outputs": [],
   "source": [
    "f_lenta=lenta[lenta['tags'].isin(useful_tags)]\n",
    "f_lenta.reset_index(drop=True,inplace=True)"
   ]
  },
  {
   "cell_type": "markdown",
   "metadata": {},
   "source": [
    "# Разделяем датасет на недели"
   ]
  },
  {
   "cell_type": "code",
   "execution_count": 18,
   "metadata": {},
   "outputs": [],
   "source": [
    "date_len=(datetime.datetime(2019,11,30)-datetime.datetime(2016,1,1)).days+1\n",
    "weeks=list()\n",
    "weeks.append(lenta.date.unique()[0:7+date_len%7])\n",
    "for i in range((date_len//7)-1):\n",
    "    weeks.append(lenta.date.unique()[7+date_len%7+i*7:7+date_len%7+i*7+7])\n",
    "week_sets=list()\n",
    "for i in range(len(weeks)):\n",
    "    week_sets.append(f_lenta[f_lenta['date'].isin(weeks[i])])\n",
    "for i in range(len(week_sets)):\n",
    "    week_sets[i].reset_index(drop=True,inplace=True)"
   ]
  },
  {
   "cell_type": "markdown",
   "metadata": {},
   "source": [
    "# Разделяем датасет на месяцы"
   ]
  },
  {
   "cell_type": "code",
   "execution_count": 19,
   "metadata": {},
   "outputs": [],
   "source": [
    "months=list()\n",
    "long_year=[31,29,31,30,31,30,31,31,30,31,30,31]\n",
    "short_year=[31,28,31,30,31,30,31,31,30,31,30,31]\n",
    "month_len=(long_year+3*short_year)[:-1]\n",
    "the_date=0\n",
    "for i in range(len(month_len)):\n",
    "    months.append(lenta.date.unique()[the_date:the_date+month_len[i]])\n",
    "    the_date=the_date+month_len[i]    \n",
    "month_sets=list()\n",
    "for i in range(len(months)):\n",
    "    month_sets.append(f_lenta[f_lenta['date'].isin(months[i])])\n",
    "for i in range(len(month_sets)):\n",
    "    month_sets[i].reset_index(drop=True,inplace=True)"
   ]
  },
  {
   "cell_type": "markdown",
   "metadata": {},
   "source": [
    "Сокращенный список датасетов, за каждую неделю берем первые 10 новостей, если их больше 10\n"
   ]
  },
  {
   "cell_type": "code",
   "execution_count": 20,
   "metadata": {},
   "outputs": [],
   "source": [
    "shortweek_sets=week_sets.copy()\n",
    "for i in range(len(week_sets)):\n",
    "    if len(shortweek_sets[i])>10:\n",
    "        shortweek_sets[i]=shortweek_sets[i][:11]"
   ]
  },
  {
   "cell_type": "markdown",
   "metadata": {},
   "source": [
    "Сокращенный список датасетов, за каждый месяц берем первые 40 новостей, если их больше 40\n"
   ]
  },
  {
   "cell_type": "code",
   "execution_count": 21,
   "metadata": {},
   "outputs": [],
   "source": [
    "shortmonth_sets=week_sets.copy()\n",
    "for i in range(len(week_sets)):\n",
    "    if len(shortmonth_sets[i])>10:\n",
    "        shortmonth_sets[i]=shortmonth_sets[i][:11]"
   ]
  },
  {
   "cell_type": "markdown",
   "metadata": {},
   "source": [
    "Объединяем тексты внутри минимальных временных отрезков(недель, месяцев)"
   ]
  },
  {
   "cell_type": "code",
   "execution_count": 22,
   "metadata": {},
   "outputs": [],
   "source": [
    "def text_union(arr):\n",
    "    a=str()\n",
    "    for i in range(len(arr['text'])):\n",
    "        a+=arr['text'][i]\n",
    "    return a"
   ]
  },
  {
   "cell_type": "code",
   "execution_count": 23,
   "metadata": {},
   "outputs": [],
   "source": [
    "month_union_texts=pd.DataFrame(columns=['date','text'])\n",
    "for i in range(len(shortmonth_sets)):\n",
    "    shortmonth_sets[i].reset_index(drop=True,inplace=True)\n",
    "    new_row={'date':shortmonth_sets[i]['date'][0],'text':text_union(shortmonth_sets[i])}\n",
    "    month_union_texts=month_union_texts.append(new_row,ignore_index=True)"
   ]
  },
  {
   "cell_type": "code",
   "execution_count": 24,
   "metadata": {},
   "outputs": [],
   "source": [
    "week_union_texts=pd.DataFrame(columns=['date','text'])\n",
    "for i in range(len(shortweek_sets)):\n",
    "    shortweek_sets[i].reset_index(drop=True,inplace=True)\n",
    "    new_row={'date':shortweek_sets[i]['date'][0],'text':text_union(shortweek_sets[i])}\n",
    "    week_union_texts=week_union_texts.append(new_row,ignore_index=True)"
   ]
  },
  {
   "cell_type": "markdown",
   "metadata": {},
   "source": [
    "# Сохраняем тексты"
   ]
  },
  {
   "cell_type": "code",
   "execution_count": 25,
   "metadata": {},
   "outputs": [],
   "source": [
    "month_union_texts.to_csv('month_texts.csv',index=False)\n",
    "week_union_texts.to_csv('week_texts.csv',index=False)"
   ]
  },
  {
   "cell_type": "markdown",
   "metadata": {},
   "source": [
    "Повторяем тот же алгоритм с заголовками"
   ]
  },
  {
   "cell_type": "code",
   "execution_count": 26,
   "metadata": {},
   "outputs": [],
   "source": [
    "def title_union(arr):\n",
    "    a=str()\n",
    "    for i in range(len(arr['title'])):\n",
    "        a+=arr['title'][i]\n",
    "        a+='\\t'\n",
    "    return a"
   ]
  },
  {
   "cell_type": "code",
   "execution_count": 27,
   "metadata": {},
   "outputs": [],
   "source": [
    "month_union_titles=pd.DataFrame(columns=['date','title'])\n",
    "for i in range(len(month_sets)):\n",
    "    new_row={'date':month_sets[i]['date'][0],'title':title_union(month_sets[i])}\n",
    "    month_union_titles=month_union_titles.append(new_row,ignore_index=True)"
   ]
  },
  {
   "cell_type": "code",
   "execution_count": 28,
   "metadata": {},
   "outputs": [],
   "source": [
    "week_union_titles=pd.DataFrame(columns=['date','title'])\n",
    "for i in range(len(week_sets)):\n",
    "    new_row={'date':week_sets[i]['date'][0],'title':title_union(week_sets[i])}\n",
    "    week_union_titles=week_union_titles.append(new_row,ignore_index=True)"
   ]
  },
  {
   "cell_type": "markdown",
   "metadata": {},
   "source": [
    "# Сохраняем заголовки"
   ]
  },
  {
   "cell_type": "code",
   "execution_count": 29,
   "metadata": {},
   "outputs": [],
   "source": [
    "month_union_titles.to_csv('month_titles.csv',index=False)\n",
    "week_union_titles.to_csv('week_titles.csv',index=False)"
   ]
  },
  {
   "cell_type": "code",
   "execution_count": null,
   "metadata": {},
   "outputs": [],
   "source": []
  }
 ],
 "metadata": {
  "kernelspec": {
   "display_name": "Python 3",
   "language": "python",
   "name": "python3"
  },
  "language_info": {
   "codemirror_mode": {
    "name": "ipython",
    "version": 3
   },
   "file_extension": ".py",
   "mimetype": "text/x-python",
   "name": "python",
   "nbconvert_exporter": "python",
   "pygments_lexer": "ipython3",
   "version": "3.8.3"
  }
 },
 "nbformat": 4,
 "nbformat_minor": 4
}
